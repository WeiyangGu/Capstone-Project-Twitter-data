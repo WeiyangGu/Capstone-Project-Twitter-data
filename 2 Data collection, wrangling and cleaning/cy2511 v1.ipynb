{
 "cells": [
  {
   "cell_type": "code",
   "execution_count": 2,
   "metadata": {},
   "outputs": [],
   "source": [
    "import pandas as pd\n",
    "import numpy as np\n",
    "pd.options.display.max_rows = 999\n",
    "pd.options.display.max_columns = 999\n",
    "import os\n",
    "from datetime import datetime\n",
    "import matplotlib.pyplot as plt\n",
    "import seaborn as sns\n",
    "#from wordcloud import WordCloud"
   ]
  },
  {
   "cell_type": "markdown",
   "metadata": {
    "heading_collapsed": true
   },
   "source": [
    "# Read data"
   ]
  },
  {
   "cell_type": "markdown",
   "metadata": {
    "heading_collapsed": true,
    "hidden": true
   },
   "source": [
    "## Twitter data"
   ]
  },
  {
   "cell_type": "code",
   "execution_count": 2,
   "metadata": {
    "hidden": true
   },
   "outputs": [
    {
     "name": "stderr",
     "output_type": "stream",
     "text": [
      "/Users/ycr/anaconda3/lib/python3.7/site-packages/IPython/core/interactiveshell.py:3057: DtypeWarning: Columns (17) have mixed types. Specify dtype option on import or set low_memory=False.\n",
      "  interactivity=interactivity, compiler=compiler, result=result)\n"
     ]
    }
   ],
   "source": [
    "twitter1 = pd.read_csv(\"trayvontweets/Trayvon Tweets 2012.csv\",encoding = \"latin1\")"
   ]
  },
  {
   "cell_type": "code",
   "execution_count": 3,
   "metadata": {
    "hidden": true
   },
   "outputs": [],
   "source": [
    "twitter2 = pd.read_csv(\"trayvontweets/Trayvon Tweets 2013.csv\",encoding = \"latin1\")"
   ]
  },
  {
   "cell_type": "code",
   "execution_count": 4,
   "metadata": {
    "hidden": true
   },
   "outputs": [],
   "source": [
    "twitter = pd.concat([twitter1,twitter2],ignore_index=True)"
   ]
  },
  {
   "cell_type": "code",
   "execution_count": 5,
   "metadata": {
    "hidden": true
   },
   "outputs": [],
   "source": [
    "twitter_message = twitter.loc[:,'message']"
   ]
  },
  {
   "cell_type": "code",
   "execution_count": 6,
   "metadata": {
    "hidden": true
   },
   "outputs": [
    {
     "name": "stdout",
     "output_type": "stream",
     "text": [
      "<class 'pandas.core.frame.DataFrame'>\n",
      "RangeIndex: 2097150 entries, 0 to 2097149\n",
      "Data columns (total 21 columns):\n",
      "Unnamed: 0              int64\n",
      "id                      int64\n",
      "message_id              int64\n",
      "user_handle             object\n",
      "orig_user_id            int64\n",
      "orig_user_handle        object\n",
      "topsy_type              object\n",
      "orig_date_posted_gmt    float64\n",
      "date_posted_gmt         float64\n",
      "message                 object\n",
      "orig_user_location      object\n",
      "coordinates             object\n",
      "tweet_location          object\n",
      "longitude               float64\n",
      "latitude                float64\n",
      "created_at_gmt          float64\n",
      "seconds_after_event     float64\n",
      "FIPS                    object\n",
      "County                  object\n",
      "City                    object\n",
      "State                   object\n",
      "dtypes: float64(6), int64(4), object(11)\n",
      "memory usage: 336.0+ MB\n"
     ]
    }
   ],
   "source": [
    "twitter.info()"
   ]
  },
  {
   "cell_type": "markdown",
   "metadata": {
    "hidden": true
   },
   "source": [
    "## Media News data"
   ]
  },
  {
   "cell_type": "code",
   "execution_count": 3,
   "metadata": {
    "hidden": true
   },
   "outputs": [],
   "source": [
    "directory = \"Media Data Analysis/predict\"\n",
    "media1 = pd.DataFrame()\n",
    "for file in os.listdir(directory):\n",
    "    if file.endswith(\".csv\"):\n",
    "        media = pd.read_csv(directory+\"/\"+file, encoding = \"latin1\")\n",
    "        media1 = pd.concat([media1,media],ignore_index=True)"
   ]
  },
  {
   "cell_type": "code",
   "execution_count": 4,
   "metadata": {
    "hidden": true
   },
   "outputs": [
    {
     "name": "stderr",
     "output_type": "stream",
     "text": [
      "/Users/ycr/anaconda3/lib/python3.7/site-packages/ipykernel_launcher.py:6: FutureWarning: Sorting because non-concatenation axis is not aligned. A future version\n",
      "of pandas will change to not sort by default.\n",
      "\n",
      "To accept the future behavior, pass 'sort=False'.\n",
      "\n",
      "To retain the current behavior and silence the warning, pass 'sort=True'.\n",
      "\n",
      "  \n"
     ]
    }
   ],
   "source": [
    "directory = \"Media Data Analysis/train\"\n",
    "media2 = pd.DataFrame()\n",
    "for file in os.listdir(directory):\n",
    "    if file.endswith(\".csv\"):\n",
    "        media = pd.read_csv(directory+\"/\"+file, encoding = \"latin1\")\n",
    "        media2 = pd.concat([media2,media],ignore_index=True)"
   ]
  },
  {
   "cell_type": "code",
   "execution_count": 5,
   "metadata": {
    "hidden": true
   },
   "outputs": [
    {
     "name": "stdout",
     "output_type": "stream",
     "text": [
      "<class 'pandas.core.frame.DataFrame'>\n",
      "RangeIndex: 194897 entries, 0 to 194896\n",
      "Data columns (total 6 columns):\n",
      "id        0 non-null float64\n",
      "Link      194897 non-null object\n",
      "Title     194897 non-null object\n",
      "Source    194897 non-null object\n",
      "Date      194895 non-null object\n",
      "Text      194897 non-null object\n",
      "dtypes: float64(1), object(5)\n",
      "memory usage: 8.9+ MB\n"
     ]
    }
   ],
   "source": [
    "media1.info()"
   ]
  },
  {
   "cell_type": "code",
   "execution_count": 7,
   "metadata": {
    "hidden": true
   },
   "outputs": [
    {
     "name": "stdout",
     "output_type": "stream",
     "text": [
      "<class 'pandas.core.frame.DataFrame'>\n",
      "RangeIndex: 756 entries, 0 to 755\n",
      "Data columns (total 7 columns):\n",
      "Date          756 non-null object\n",
      "Link          756 non-null object\n",
      "Source        756 non-null object\n",
      "Text          756 non-null object\n",
      "Title         756 non-null object\n",
      "Unnamed: 0    35 non-null float64\n",
      "id            756 non-null int64\n",
      "dtypes: float64(1), int64(1), object(5)\n",
      "memory usage: 41.4+ KB\n"
     ]
    }
   ],
   "source": [
    "media2.info()"
   ]
  },
  {
   "cell_type": "markdown",
   "metadata": {},
   "source": [
    "# Data clean"
   ]
  },
  {
   "cell_type": "markdown",
   "metadata": {},
   "source": [
    "## Media1"
   ]
  },
  {
   "cell_type": "code",
   "execution_count": 17,
   "metadata": {},
   "outputs": [
    {
     "name": "stdout",
     "output_type": "stream",
     "text": [
      "<class 'pandas.core.frame.DataFrame'>\n",
      "RangeIndex: 194897 entries, 0 to 194896\n",
      "Data columns (total 6 columns):\n",
      "id        0 non-null float64\n",
      "Link      194897 non-null object\n",
      "Title     194897 non-null object\n",
      "Source    194897 non-null object\n",
      "Date      194895 non-null object\n",
      "Text      194897 non-null object\n",
      "dtypes: float64(1), object(5)\n",
      "memory usage: 8.9+ MB\n"
     ]
    }
   ],
   "source": [
    "media1.info()"
   ]
  },
  {
   "cell_type": "markdown",
   "metadata": {},
   "source": [
    "All the id of media1 are null.     \n",
    "Date of two rows are missing."
   ]
  },
  {
   "cell_type": "markdown",
   "metadata": {},
   "source": [
    "**standardize the date format**"
   ]
  },
  {
   "cell_type": "code",
   "execution_count": 18,
   "metadata": {},
   "outputs": [],
   "source": [
    "media1_index_wrong_date = []\n",
    "for i in range(0,media1.shape[0]):\n",
    "    try:\n",
    "        media1.loc[i,'Date_cleaned'] = datetime.strptime(media1.loc[i,'Date'], '%d %B %Y')\n",
    "    except:\n",
    "        media1_index_wrong_date.append(i)"
   ]
  },
  {
   "cell_type": "code",
   "execution_count": 19,
   "metadata": {
    "scrolled": true
   },
   "outputs": [
    {
     "data": {
      "text/plain": [
       "192                     on immigrants could backfire on GOP\n",
       "582                                             Oren Dorell\n",
       "966                                                     NaN\n",
       "5769             ; Troops remember five key moments in Iraq\n",
       "6555                                              825 words\n",
       "6991                                              822 words\n",
       "7123                                         on Afghanistan\n",
       "7199                                            in edgewise\n",
       "7576                                  of support, for Brown\n",
       "11572                        may be deemed harmful in China\n",
       "19117                      what sent shooter 'over the top'\n",
       "29799     ; Judges must place law above personal feeling...\n",
       "30484                               getting harder to crack\n",
       "31662      a new movement ; Take a Facebook post that 'b...\n",
       "32093             still needed in struggle for civil rights\n",
       "32465                                             478 words\n",
       "35584                                            Ian Urbina\n",
       "39197           blights little library near the White House\n",
       "39999                                             132 words\n",
       "42100                    in this week's Wall Street Journal\n",
       "44829                    in this week's Wall Street Journal\n",
       "55902                            Songs and Women on the Run\n",
       "58302                                        that divide us\n",
       "58473                        are rooted in our dark history\n",
       "58599                                            changed me\n",
       "58723                                          Karen Attiah\n",
       "61818                         Irks Dues-Supported Fan Clubs\n",
       "65975                      Teens Use Video Chat to Hang Out\n",
       "66903              Can Tech Protect Us From Mass Shootings?\n",
       "67377                             after clashes at protests\n",
       "68772                Creating an 'Alarm' For Terror Attacks\n",
       "70163      Social Media Provides Crisis Context, in Real...\n",
       "70938        -- Body Cameras for All: Creepy but So Helpful\n",
       "72034      What Happens When Police Officers Wear Body C...\n",
       "80366                                                   NaN\n",
       "80605      Championing Privacy, Selling Surveillance ---...\n",
       "80977                    Facebook Confronts Identity Crisis\n",
       "81389                 sensitive images; 'provoking trouble'\n",
       "84453                                      on April 4, 1968\n",
       "84678                                            Karla Adam\n",
       "85502                                            not spoken\n",
       "85715                                       Editorial Board\n",
       "86188                                           Rachel Hoge\n",
       "88699                          Michael Birnbaum, Rick Noack\n",
       "90036        Republicans wrestle with: 'Black Lives Matter'\n",
       "92432                                          Olga Kreimer\n",
       "92778                                             Pat Myers\n",
       "92877                                     in iPhone dispute\n",
       "92881                  for Scalia, Supreme Court reconvenes\n",
       "93791                                         with a Raven?\n",
       "94235                         ' g ot i n to my s p i r i t'\n",
       "94388                                       Editorial Board\n",
       "94727                                      Pamela Constable\n",
       "96536                                              92 words\n",
       "97124                              big message for Congress\n",
       "97235                                      David Montgomery\n",
       "97538                                        ofthe Founders\n",
       "106018                                            549 words\n",
       "106235    to police Suicide attack kills 14 troops in south\n",
       "108087                                       Chris Richards\n",
       "109507                                            on Russia\n",
       "109683                                       are admissible\n",
       "109786                                          against him\n",
       "111642                                     and violent acts\n",
       "112581    to 'Rapper's Delight.' Just who is Ken Cuccine...\n",
       "112584    to 'Rapper's Delight.' Just who is Ken Cuccine...\n",
       "113074                                     or hold any back\n",
       "114368     Md. AG off to a quiet start, but gay nuptials...\n",
       "115879     coffee and a trip to the courthouse make thei...\n",
       "122438                                            ''film...\n",
       "133704                                          anita kumar\n",
       "134463                                    Stephen Battersby\n",
       "134492                                          erased data\n",
       "150189    and concepts is hunting for Eric Sanderson's m...\n",
       "157881    Attack a Police Station in Indonesia, Then Are...\n",
       "181468             and Shouts Next Door, but Don't Call 911\n",
       "185378           Army deployed to end attacks on immigrants\n",
       "186273                                 were piercing. Makde\n",
       "186775                                                   ..\n",
       "188134                                            in Israel\n",
       "191023        from ex-Marine charged in 2 previous killings\n",
       "Name: Date, dtype: object"
      ]
     },
     "execution_count": 19,
     "metadata": {},
     "output_type": "execute_result"
    }
   ],
   "source": [
    "media1.loc[media1_index_wrong_date,'Date']"
   ]
  },
  {
   "cell_type": "markdown",
   "metadata": {},
   "source": [
    "**extract the real titles from column 'Title'**"
   ]
  },
  {
   "cell_type": "code",
   "execution_count": 20,
   "metadata": {},
   "outputs": [],
   "source": [
    "media1_index_wrong_title = []\n",
    "for i in range(0,len(media1)):\n",
    "    try:\n",
    "        media1.loc[i,'Title_cleaned'] = media1.loc[i,'Title'].split('\\n')[1].rstrip()\n",
    "    except:\n",
    "        media1_index_wrong_title.append(i)"
   ]
  },
  {
   "cell_type": "code",
   "execution_count": 21,
   "metadata": {
    "scrolled": true
   },
   "outputs": [
    {
     "data": {
      "text/plain": [
       "42100    REVIEW --- Ideas Market -- Week in Words: A fi...\n",
       "44829    REVIEW --- Ideas Market -- Week In Words: A fi...\n",
       "61818    A Controversial Way to Score Concert Tickets -...\n",
       "65975                                                  Key\n",
       "66903                                                  Key\n",
       "67377    Dallas Police Murders: Activists Tread Fine Li...\n",
       "68772                                                  Key\n",
       "70163                                     U.S. News -- Key\n",
       "70938                                                  Key\n",
       "72034                                                  Key\n",
       "80366    World News: China Detains Uighurs on a Vast Sc...\n",
       "80605                       EXCHANGE --- Technology -- Key\n",
       "80977                                                  Key\n",
       "81389    In China, Chat Group Banter Can Lead to Jail -...\n",
       "Name: Title, dtype: object"
      ]
     },
     "execution_count": 21,
     "metadata": {},
     "output_type": "execute_result"
    }
   ],
   "source": [
    "media1.loc[media1_index_wrong_title,'Title']"
   ]
  },
  {
   "cell_type": "code",
   "execution_count": 22,
   "metadata": {},
   "outputs": [],
   "source": [
    "media1_index_wrong_title = [title for title in media1_index_wrong_title if title not in [61818,67377,80366,81389]]"
   ]
  },
  {
   "cell_type": "markdown",
   "metadata": {},
   "source": [
    "**clean text**"
   ]
  },
  {
   "cell_type": "markdown",
   "metadata": {},
   "source": [
    "**undo**"
   ]
  },
  {
   "cell_type": "markdown",
   "metadata": {},
   "source": [
    "###############"
   ]
  },
  {
   "cell_type": "markdown",
   "metadata": {},
   "source": [
    "**drop all rows with wrong date or title**"
   ]
  },
  {
   "cell_type": "code",
   "execution_count": 87,
   "metadata": {},
   "outputs": [],
   "source": [
    "media1_cleaned = media1.drop(media1_index_wrong_title+media1_index_wrong_date,axis = 0)"
   ]
  },
  {
   "cell_type": "code",
   "execution_count": 89,
   "metadata": {},
   "outputs": [
    {
     "name": "stdout",
     "output_type": "stream",
     "text": [
      "<class 'pandas.core.frame.DataFrame'>\n",
      "Int64Index: 194816 entries, 0 to 194896\n",
      "Data columns (total 6 columns):\n",
      "id        0 non-null float64\n",
      "Link      194816 non-null object\n",
      "Title     194816 non-null object\n",
      "Source    194816 non-null object\n",
      "Date      194816 non-null object\n",
      "Text      194816 non-null object\n",
      "dtypes: float64(1), object(5)\n",
      "memory usage: 10.4+ MB\n"
     ]
    }
   ],
   "source": [
    "media1_cleaned.info()"
   ]
  },
  {
   "cell_type": "markdown",
   "metadata": {},
   "source": [
    "## Media2"
   ]
  },
  {
   "cell_type": "code",
   "execution_count": 91,
   "metadata": {},
   "outputs": [
    {
     "name": "stdout",
     "output_type": "stream",
     "text": [
      "<class 'pandas.core.frame.DataFrame'>\n",
      "RangeIndex: 756 entries, 0 to 755\n",
      "Data columns (total 7 columns):\n",
      "Date          756 non-null object\n",
      "Link          756 non-null object\n",
      "Source        756 non-null object\n",
      "Text          756 non-null object\n",
      "Title         756 non-null object\n",
      "Unnamed: 0    35 non-null float64\n",
      "id            756 non-null int64\n",
      "dtypes: float64(1), int64(1), object(5)\n",
      "memory usage: 41.4+ KB\n"
     ]
    }
   ],
   "source": [
    "media2.info()"
   ]
  },
  {
   "cell_type": "markdown",
   "metadata": {},
   "source": [
    "**standardize the data format**"
   ]
  },
  {
   "cell_type": "code",
   "execution_count": 96,
   "metadata": {},
   "outputs": [],
   "source": [
    "for i in range(0,media2.shape[0]):\n",
    "    for fmt in ('%m/%d/%y %H:%M','%d-%b-%y','%Y-%m-%d %H:%M:%S','%d %B %Y'):\n",
    "        try:\n",
    "            media2.loc[i,'Date'] = datetime.strptime(media2.loc[i,'Date'], fmt)\n",
    "        except:\n",
    "            pass"
   ]
  },
  {
   "cell_type": "markdown",
   "metadata": {},
   "source": [
    "**Unnamed??????????**   \n",
    "#########################   \n",
    "**TODO**"
   ]
  },
  {
   "cell_type": "markdown",
   "metadata": {},
   "source": [
    "# EDA"
   ]
  },
  {
   "cell_type": "code",
   "execution_count": 111,
   "metadata": {},
   "outputs": [
    {
     "name": "stdout",
     "output_type": "stream",
     "text": [
      "<class 'pandas.core.frame.DataFrame'>\n",
      "RangeIndex: 756 entries, 0 to 755\n",
      "Data columns (total 7 columns):\n",
      "Date          756 non-null object\n",
      "Link          756 non-null object\n",
      "Source        756 non-null object\n",
      "Text          756 non-null object\n",
      "Title         756 non-null object\n",
      "Unnamed: 0    35 non-null float64\n",
      "id            756 non-null int64\n",
      "dtypes: float64(1), int64(1), object(5)\n",
      "memory usage: 41.4+ KB\n"
     ]
    }
   ],
   "source": [
    "media2.info()"
   ]
  },
  {
   "cell_type": "code",
   "execution_count": 104,
   "metadata": {},
   "outputs": [
    {
     "data": {
      "text/plain": [
       "<matplotlib.axes._subplots.AxesSubplot at 0x167cdd8d0>"
      ]
     },
     "execution_count": 104,
     "metadata": {},
     "output_type": "execute_result"
    },
    {
     "data": {
      "image/png": "[encoded data removed]",
      "text/plain": [
       "<Figure size 432x288 with 1 Axes>"
      ]
     },
     "metadata": {
      "needs_background": "light"
     },
     "output_type": "display_data"
    }
   ],
   "source": [
    "sns.countplot(x = 'Source', data = media1)"
   ]
  },
  {
   "cell_type": "code",
   "execution_count": 110,
   "metadata": {},
   "outputs": [
    {
     "data": {
      "text/plain": [
       "<matplotlib.axes._subplots.AxesSubplot at 0x167c219b0>"
      ]
     },
     "execution_count": 110,
     "metadata": {},
     "output_type": "execute_result"
    },
    {
     "data": {
      "image/png": "[encoded data removed]",
      "text/plain": [
       "<Figure size 864x360 with 1 Axes>"
      ]
     },
     "metadata": {
      "needs_background": "light"
     },
     "output_type": "display_data"
    }
   ],
   "source": [
    "plt.figure(figsize = (12,5))\n",
    "sns.countplot(x = 'Source', data = media2)"
   ]
  },
  {
   "cell_type": "code",
   "execution_count": 112,
   "metadata": {},
   "outputs": [
    {
     "data": {
      "text/plain": [
       "<matplotlib.axes._subplots.AxesSubplot at 0x1681a6cc0>"
      ]
     },
     "execution_count": 112,
     "metadata": {},
     "output_type": "execute_result"
    },
    {
     "data": {
      "image/png": "[encoded data removed]",
      "text/plain": [
       "<Figure size 432x288 with 1 Axes>"
      ]
     },
     "metadata": {
      "needs_background": "light"
     },
     "output_type": "display_data"
    }
   ],
   "source": [
    "sns.countplot(x = 'id', data = media2)"
   ]
  },
  {
   "cell_type": "markdown",
   "metadata": {},
   "source": [
    "**word cloud for text?**\n",
    "##########    \n",
    "TODO "
   ]
  },
  {
   "cell_type": "code",
   "execution_count": 8,
   "metadata": {},
   "outputs": [],
   "source": [
    "media_text = media1.loc[:,'Text']"
   ]
  },
  {
   "cell_type": "code",
   "execution_count": 10,
   "metadata": {},
   "outputs": [
    {
     "ename": "NameError",
     "evalue": "name 'WordCloud' is not defined",
     "output_type": "error",
     "traceback": [
      "\u001b[0;31m---------------------------------------------------------------------------\u001b[0m",
      "\u001b[0;31mNameError\u001b[0m                                 Traceback (most recent call last)",
      "\u001b[0;32m<ipython-input-10-13fc18978349>\u001b[0m in \u001b[0;36m<module>\u001b[0;34m\u001b[0m\n\u001b[0;32m----> 1\u001b[0;31m \u001b[0mwordcloud\u001b[0m \u001b[0;34m=\u001b[0m \u001b[0mWordCloud\u001b[0m\u001b[0;34m(\u001b[0m\u001b[0;34m)\u001b[0m\u001b[0;34m.\u001b[0m\u001b[0mgenerate\u001b[0m\u001b[0;34m(\u001b[0m\u001b[0mmedia_text\u001b[0m\u001b[0;34m)\u001b[0m\u001b[0;34m\u001b[0m\u001b[0;34m\u001b[0m\u001b[0m\n\u001b[0m",
      "\u001b[0;31mNameError\u001b[0m: name 'WordCloud' is not defined"
     ]
    }
   ],
   "source": [
    "wordcloud = WordCloud().generate(media_text)"
   ]
  },
  {
   "cell_type": "code",
   "execution_count": null,
   "metadata": {},
   "outputs": [],
   "source": [
    "# Display the generated image:\n",
    "# the matplotlib way:\n",
    "plt.imshow(wordcloud, interpolation='bilinear')\n",
    "plt.axis(\"off\")\n",
    "\n",
    "# lower max_font_size\n",
    "wordcloud = WordCloud(max_font_size=40).generate(text)\n",
    "plt.figure()\n",
    "plt.imshow(wordcloud, interpolation=\"bilinear\")\n",
    "plt.axis(\"off\")\n",
    "plt.show()\n"
   ]
  }
 ],
 "metadata": {
  "kernelspec": {
   "display_name": "Python (capstone)",
   "language": "python",
   "name": "capstone"
  },
  "language_info": {
   "codemirror_mode": {
    "name": "ipython",
    "version": 3
   },
   "file_extension": ".py",
   "mimetype": "text/x-python",
   "name": "python",
   "nbconvert_exporter": "python",
   "pygments_lexer": "ipython3",
   "version": "3.7.3"
  }
 },
 "nbformat": 4,
 "nbformat_minor": 2
}
