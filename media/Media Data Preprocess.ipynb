{
 "cells": [
  {
   "cell_type": "markdown",
   "metadata": {},
   "source": [
    "# Cleaning and Preprocessing of the Media Dataset"
   ]
  },
  {
   "cell_type": "code",
   "execution_count": 1,
   "metadata": {},
   "outputs": [],
   "source": [
    "import pandas as pd\n",
    "import numpy as np\n",
    "import matplotlib.pyplot as plt\n",
    "import seaborn as sns\n",
    "import warnings\n",
    "warnings.filterwarnings('ignore')\n",
    "%matplotlib inline  "
   ]
  },
  {
   "cell_type": "markdown",
   "metadata": {},
   "source": [
    "## Load the data (with predicted label)"
   ]
  },
  {
   "cell_type": "code",
   "execution_count": 2,
   "metadata": {
    "scrolled": true
   },
   "outputs": [
    {
     "data": {
      "text/html": [
       "<div>\n",
       "<style scoped>\n",
       "    .dataframe tbody tr th:only-of-type {\n",
       "        vertical-align: middle;\n",
       "    }\n",
       "\n",
       "    .dataframe tbody tr th {\n",
       "        vertical-align: top;\n",
       "    }\n",
       "\n",
       "    .dataframe thead th {\n",
       "        text-align: right;\n",
       "    }\n",
       "</style>\n",
       "<table border=\"1\" class=\"dataframe\">\n",
       "  <thead>\n",
       "    <tr style=\"text-align: right;\">\n",
       "      <th></th>\n",
       "      <th>Unnamed: 0</th>\n",
       "      <th>id</th>\n",
       "      <th>Link</th>\n",
       "      <th>Title</th>\n",
       "      <th>Source</th>\n",
       "      <th>Date</th>\n",
       "      <th>Text</th>\n",
       "    </tr>\n",
       "  </thead>\n",
       "  <tbody>\n",
       "    <tr>\n",
       "      <th>0</th>\n",
       "      <td>0</td>\n",
       "      <td>0.0</td>\n",
       "      <td>https://global-factiva-com.ezproxy.cul.columbi...</td>\n",
       "      <td>Metro\\r\\nPr. George's police investigate homic...</td>\n",
       "      <td>WP</td>\n",
       "      <td>6 November 2015</td>\n",
       "      <td>b olice investigate homicide 2 car crash injur...</td>\n",
       "    </tr>\n",
       "    <tr>\n",
       "      <th>1</th>\n",
       "      <td>1</td>\n",
       "      <td>0.0</td>\n",
       "      <td>https://global-factiva-com.ezproxy.cul.columbi...</td>\n",
       "      <td>A-Section\\r\\nHolder urges Congress to do more ...</td>\n",
       "      <td>WP</td>\n",
       "      <td>6 November 2015</td>\n",
       "      <td>b es congress to do more on sentencing reform ...</td>\n",
       "    </tr>\n",
       "    <tr>\n",
       "      <th>2</th>\n",
       "      <td>2</td>\n",
       "      <td>0.0</td>\n",
       "      <td>https://global-factiva-com.ezproxy.cul.columbi...</td>\n",
       "      <td>Editorial-Opinion\\r\\nGuns, knives, common sens...</td>\n",
       "      <td>WP</td>\n",
       "      <td>6 November 2015</td>\n",
       "      <td>b ns  knives  common sense editorial board 445...</td>\n",
       "    </tr>\n",
       "    <tr>\n",
       "      <th>3</th>\n",
       "      <td>3</td>\n",
       "      <td>0.0</td>\n",
       "      <td>https://global-factiva-com.ezproxy.cul.columbi...</td>\n",
       "      <td>A-Section\\r\\nIndian tribes get access to feder...</td>\n",
       "      <td>WP</td>\n",
       "      <td>6 November 2015</td>\n",
       "      <td>b bes get access to federal crime fighting too...</td>\n",
       "    </tr>\n",
       "    <tr>\n",
       "      <th>4</th>\n",
       "      <td>4</td>\n",
       "      <td>0.0</td>\n",
       "      <td>https://global-factiva-com.ezproxy.cul.columbi...</td>\n",
       "      <td>Metro\\r\\nPolice investigate death of man found...</td>\n",
       "      <td>WP</td>\n",
       "      <td>5 November 2015</td>\n",
       "      <td>b gate death of man found in custody of  speci...</td>\n",
       "    </tr>\n",
       "  </tbody>\n",
       "</table>\n",
       "</div>"
      ],
      "text/plain": [
       "   Unnamed: 0   id                                               Link  \\\n",
       "0           0  0.0  https://global-factiva-com.ezproxy.cul.columbi...   \n",
       "1           1  0.0  https://global-factiva-com.ezproxy.cul.columbi...   \n",
       "2           2  0.0  https://global-factiva-com.ezproxy.cul.columbi...   \n",
       "3           3  0.0  https://global-factiva-com.ezproxy.cul.columbi...   \n",
       "4           4  0.0  https://global-factiva-com.ezproxy.cul.columbi...   \n",
       "\n",
       "                                               Title Source             Date  \\\n",
       "0  Metro\\r\\nPr. George's police investigate homic...     WP  6 November 2015   \n",
       "1  A-Section\\r\\nHolder urges Congress to do more ...     WP  6 November 2015   \n",
       "2  Editorial-Opinion\\r\\nGuns, knives, common sens...     WP  6 November 2015   \n",
       "3  A-Section\\r\\nIndian tribes get access to feder...     WP  6 November 2015   \n",
       "4  Metro\\r\\nPolice investigate death of man found...     WP  5 November 2015   \n",
       "\n",
       "                                                Text  \n",
       "0  b olice investigate homicide 2 car crash injur...  \n",
       "1  b es congress to do more on sentencing reform ...  \n",
       "2  b ns  knives  common sense editorial board 445...  \n",
       "3  b bes get access to federal crime fighting too...  \n",
       "4  b gate death of man found in custody of  speci...  "
      ]
     },
     "execution_count": 2,
     "metadata": {},
     "output_type": "execute_result"
    }
   ],
   "source": [
    "all_media = pd.read_csv('/Users/luke/Desktop/Google Drive/Fall 2019/Capstone/Media Data Analysis/predict/predict1.csv')\n",
    "all_media.head()"
   ]
  },
  {
   "cell_type": "markdown",
   "metadata": {},
   "source": [
    "## Use only the articles related to police violence on black community (label 1)"
   ]
  },
  {
   "cell_type": "code",
   "execution_count": 3,
   "metadata": {},
   "outputs": [],
   "source": [
    "valid_media = all_media[all_media['id'] == 1]"
   ]
  },
  {
   "cell_type": "code",
   "execution_count": 4,
   "metadata": {},
   "outputs": [
    {
     "data": {
      "text/html": [
       "<div>\n",
       "<style scoped>\n",
       "    .dataframe tbody tr th:only-of-type {\n",
       "        vertical-align: middle;\n",
       "    }\n",
       "\n",
       "    .dataframe tbody tr th {\n",
       "        vertical-align: top;\n",
       "    }\n",
       "\n",
       "    .dataframe thead th {\n",
       "        text-align: right;\n",
       "    }\n",
       "</style>\n",
       "<table border=\"1\" class=\"dataframe\">\n",
       "  <thead>\n",
       "    <tr style=\"text-align: right;\">\n",
       "      <th></th>\n",
       "      <th>Unnamed: 0</th>\n",
       "      <th>id</th>\n",
       "      <th>Link</th>\n",
       "      <th>Title</th>\n",
       "      <th>Source</th>\n",
       "      <th>Date</th>\n",
       "      <th>Text</th>\n",
       "    </tr>\n",
       "  </thead>\n",
       "  <tbody>\n",
       "    <tr>\n",
       "      <th>21</th>\n",
       "      <td>21</td>\n",
       "      <td>1.0</td>\n",
       "      <td>https://global-factiva-com.ezproxy.cul.columbi...</td>\n",
       "      <td>A-Section\\r\\nA racial 'Rorschach test'\\r\\nMich...</td>\n",
       "      <td>WP</td>\n",
       "      <td>5 November 2015</td>\n",
       "      <td>b rorschach test  michael e  miller 1453 words...</td>\n",
       "    </tr>\n",
       "    <tr>\n",
       "      <th>45</th>\n",
       "      <td>20</td>\n",
       "      <td>1.0</td>\n",
       "      <td>https://global-factiva-com.ezproxy.cul.columbi...</td>\n",
       "      <td>NEWS\\nSchool is the surest path to achieving K...</td>\n",
       "      <td>USA</td>\n",
       "      <td>8 April 2008</td>\n",
       "      <td>two things got my attention last week  one was...</td>\n",
       "    </tr>\n",
       "    <tr>\n",
       "      <th>66</th>\n",
       "      <td>41</td>\n",
       "      <td>1.0</td>\n",
       "      <td>https://global-factiva-com.ezproxy.cul.columbi...</td>\n",
       "      <td>NEWS\\nObama puts courage ahead of political ex...</td>\n",
       "      <td>USA</td>\n",
       "      <td>25 March 2008</td>\n",
       "      <td>if there is lesson to learn from the speech on...</td>\n",
       "    </tr>\n",
       "    <tr>\n",
       "      <th>197</th>\n",
       "      <td>172</td>\n",
       "      <td>1.0</td>\n",
       "      <td>https://global-factiva-com.ezproxy.cul.columbi...</td>\n",
       "      <td>NEWS\\nBusting the 'code of silence' ; Milwauke...</td>\n",
       "      <td>USA</td>\n",
       "      <td>18 December 2007</td>\n",
       "      <td>the brutal beatings of frank jude and lovell h...</td>\n",
       "    </tr>\n",
       "    <tr>\n",
       "      <th>250</th>\n",
       "      <td>225</td>\n",
       "      <td>1.0</td>\n",
       "      <td>https://global-factiva-com.ezproxy.cul.columbi...</td>\n",
       "      <td>NEWS\\nReservists back in police jobs raise con...</td>\n",
       "      <td>USA</td>\n",
       "      <td>16 November 2007</td>\n",
       "      <td>shortly after wayne williamson returned to tex...</td>\n",
       "    </tr>\n",
       "  </tbody>\n",
       "</table>\n",
       "</div>"
      ],
      "text/plain": [
       "     Unnamed: 0   id                                               Link  \\\n",
       "21           21  1.0  https://global-factiva-com.ezproxy.cul.columbi...   \n",
       "45           20  1.0  https://global-factiva-com.ezproxy.cul.columbi...   \n",
       "66           41  1.0  https://global-factiva-com.ezproxy.cul.columbi...   \n",
       "197         172  1.0  https://global-factiva-com.ezproxy.cul.columbi...   \n",
       "250         225  1.0  https://global-factiva-com.ezproxy.cul.columbi...   \n",
       "\n",
       "                                                 Title Source  \\\n",
       "21   A-Section\\r\\nA racial 'Rorschach test'\\r\\nMich...     WP   \n",
       "45   NEWS\\nSchool is the surest path to achieving K...    USA   \n",
       "66   NEWS\\nObama puts courage ahead of political ex...    USA   \n",
       "197  NEWS\\nBusting the 'code of silence' ; Milwauke...    USA   \n",
       "250  NEWS\\nReservists back in police jobs raise con...    USA   \n",
       "\n",
       "                 Date                                               Text  \n",
       "21    5 November 2015  b rorschach test  michael e  miller 1453 words...  \n",
       "45       8 April 2008  two things got my attention last week  one was...  \n",
       "66      25 March 2008  if there is lesson to learn from the speech on...  \n",
       "197  18 December 2007  the brutal beatings of frank jude and lovell h...  \n",
       "250  16 November 2007  shortly after wayne williamson returned to tex...  "
      ]
     },
     "execution_count": 4,
     "metadata": {},
     "output_type": "execute_result"
    }
   ],
   "source": [
    "valid_media.head()"
   ]
  },
  {
   "cell_type": "markdown",
   "metadata": {},
   "source": [
    "## Drop irrelevant columns"
   ]
  },
  {
   "cell_type": "code",
   "execution_count": 5,
   "metadata": {},
   "outputs": [],
   "source": [
    "# Drop the first and the second column since they are only the row index and the indicator of label\n",
    "valid_media = valid_media.drop(columns = ['Unnamed: 0', 'id'])"
   ]
  },
  {
   "cell_type": "code",
   "execution_count": 6,
   "metadata": {},
   "outputs": [],
   "source": [
    "valid_media = valid_media.reset_index(drop = True)"
   ]
  },
  {
   "cell_type": "code",
   "execution_count": 7,
   "metadata": {},
   "outputs": [
    {
     "data": {
      "text/html": [
       "<div>\n",
       "<style scoped>\n",
       "    .dataframe tbody tr th:only-of-type {\n",
       "        vertical-align: middle;\n",
       "    }\n",
       "\n",
       "    .dataframe tbody tr th {\n",
       "        vertical-align: top;\n",
       "    }\n",
       "\n",
       "    .dataframe thead th {\n",
       "        text-align: right;\n",
       "    }\n",
       "</style>\n",
       "<table border=\"1\" class=\"dataframe\">\n",
       "  <thead>\n",
       "    <tr style=\"text-align: right;\">\n",
       "      <th></th>\n",
       "      <th>Link</th>\n",
       "      <th>Title</th>\n",
       "      <th>Source</th>\n",
       "      <th>Date</th>\n",
       "      <th>Text</th>\n",
       "    </tr>\n",
       "  </thead>\n",
       "  <tbody>\n",
       "    <tr>\n",
       "      <th>0</th>\n",
       "      <td>https://global-factiva-com.ezproxy.cul.columbi...</td>\n",
       "      <td>A-Section\\r\\nA racial 'Rorschach test'\\r\\nMich...</td>\n",
       "      <td>WP</td>\n",
       "      <td>5 November 2015</td>\n",
       "      <td>b rorschach test  michael e  miller 1453 words...</td>\n",
       "    </tr>\n",
       "    <tr>\n",
       "      <th>1</th>\n",
       "      <td>https://global-factiva-com.ezproxy.cul.columbi...</td>\n",
       "      <td>NEWS\\nSchool is the surest path to achieving K...</td>\n",
       "      <td>USA</td>\n",
       "      <td>8 April 2008</td>\n",
       "      <td>two things got my attention last week  one was...</td>\n",
       "    </tr>\n",
       "    <tr>\n",
       "      <th>2</th>\n",
       "      <td>https://global-factiva-com.ezproxy.cul.columbi...</td>\n",
       "      <td>NEWS\\nObama puts courage ahead of political ex...</td>\n",
       "      <td>USA</td>\n",
       "      <td>25 March 2008</td>\n",
       "      <td>if there is lesson to learn from the speech on...</td>\n",
       "    </tr>\n",
       "    <tr>\n",
       "      <th>3</th>\n",
       "      <td>https://global-factiva-com.ezproxy.cul.columbi...</td>\n",
       "      <td>NEWS\\nBusting the 'code of silence' ; Milwauke...</td>\n",
       "      <td>USA</td>\n",
       "      <td>18 December 2007</td>\n",
       "      <td>the brutal beatings of frank jude and lovell h...</td>\n",
       "    </tr>\n",
       "    <tr>\n",
       "      <th>4</th>\n",
       "      <td>https://global-factiva-com.ezproxy.cul.columbi...</td>\n",
       "      <td>NEWS\\nReservists back in police jobs raise con...</td>\n",
       "      <td>USA</td>\n",
       "      <td>16 November 2007</td>\n",
       "      <td>shortly after wayne williamson returned to tex...</td>\n",
       "    </tr>\n",
       "  </tbody>\n",
       "</table>\n",
       "</div>"
      ],
      "text/plain": [
       "                                                Link  \\\n",
       "0  https://global-factiva-com.ezproxy.cul.columbi...   \n",
       "1  https://global-factiva-com.ezproxy.cul.columbi...   \n",
       "2  https://global-factiva-com.ezproxy.cul.columbi...   \n",
       "3  https://global-factiva-com.ezproxy.cul.columbi...   \n",
       "4  https://global-factiva-com.ezproxy.cul.columbi...   \n",
       "\n",
       "                                               Title Source              Date  \\\n",
       "0  A-Section\\r\\nA racial 'Rorschach test'\\r\\nMich...     WP   5 November 2015   \n",
       "1  NEWS\\nSchool is the surest path to achieving K...    USA      8 April 2008   \n",
       "2  NEWS\\nObama puts courage ahead of political ex...    USA     25 March 2008   \n",
       "3  NEWS\\nBusting the 'code of silence' ; Milwauke...    USA  18 December 2007   \n",
       "4  NEWS\\nReservists back in police jobs raise con...    USA  16 November 2007   \n",
       "\n",
       "                                                Text  \n",
       "0  b rorschach test  michael e  miller 1453 words...  \n",
       "1  two things got my attention last week  one was...  \n",
       "2  if there is lesson to learn from the speech on...  \n",
       "3  the brutal beatings of frank jude and lovell h...  \n",
       "4  shortly after wayne williamson returned to tex...  "
      ]
     },
     "execution_count": 7,
     "metadata": {},
     "output_type": "execute_result"
    }
   ],
   "source": [
    "valid_media.head()"
   ]
  },
  {
   "cell_type": "markdown",
   "metadata": {},
   "source": [
    "## Standardize data format"
   ]
  },
  {
   "cell_type": "code",
   "execution_count": 8,
   "metadata": {},
   "outputs": [],
   "source": [
    "wrong_date_index = []\n",
    "for i in range(valid_media.shape[0]):\n",
    "    try:\n",
    "        valid_media.loc[i, 'Date'] = pd.to_datetime(valid_media.loc[i, 'Date'])\n",
    "    except:\n",
    "        wrong_date_index.append(i)"
   ]
  },
  {
   "cell_type": "code",
   "execution_count": 9,
   "metadata": {},
   "outputs": [
    {
     "data": {
      "text/html": [
       "<div>\n",
       "<style scoped>\n",
       "    .dataframe tbody tr th:only-of-type {\n",
       "        vertical-align: middle;\n",
       "    }\n",
       "\n",
       "    .dataframe tbody tr th {\n",
       "        vertical-align: top;\n",
       "    }\n",
       "\n",
       "    .dataframe thead th {\n",
       "        text-align: right;\n",
       "    }\n",
       "</style>\n",
       "<table border=\"1\" class=\"dataframe\">\n",
       "  <thead>\n",
       "    <tr style=\"text-align: right;\">\n",
       "      <th></th>\n",
       "      <th>Link</th>\n",
       "      <th>Title</th>\n",
       "      <th>Source</th>\n",
       "      <th>Date</th>\n",
       "      <th>Text</th>\n",
       "    </tr>\n",
       "  </thead>\n",
       "  <tbody>\n",
       "    <tr>\n",
       "      <th>0</th>\n",
       "      <td>https://global-factiva-com.ezproxy.cul.columbi...</td>\n",
       "      <td>A-Section\\r\\nA racial 'Rorschach test'\\r\\nMich...</td>\n",
       "      <td>WP</td>\n",
       "      <td>2015-11-05 00:00:00</td>\n",
       "      <td>b rorschach test  michael e  miller 1453 words...</td>\n",
       "    </tr>\n",
       "    <tr>\n",
       "      <th>1</th>\n",
       "      <td>https://global-factiva-com.ezproxy.cul.columbi...</td>\n",
       "      <td>NEWS\\nSchool is the surest path to achieving K...</td>\n",
       "      <td>USA</td>\n",
       "      <td>2008-04-08 00:00:00</td>\n",
       "      <td>two things got my attention last week  one was...</td>\n",
       "    </tr>\n",
       "    <tr>\n",
       "      <th>2</th>\n",
       "      <td>https://global-factiva-com.ezproxy.cul.columbi...</td>\n",
       "      <td>NEWS\\nObama puts courage ahead of political ex...</td>\n",
       "      <td>USA</td>\n",
       "      <td>2008-03-25 00:00:00</td>\n",
       "      <td>if there is lesson to learn from the speech on...</td>\n",
       "    </tr>\n",
       "    <tr>\n",
       "      <th>3</th>\n",
       "      <td>https://global-factiva-com.ezproxy.cul.columbi...</td>\n",
       "      <td>NEWS\\nBusting the 'code of silence' ; Milwauke...</td>\n",
       "      <td>USA</td>\n",
       "      <td>2007-12-18 00:00:00</td>\n",
       "      <td>the brutal beatings of frank jude and lovell h...</td>\n",
       "    </tr>\n",
       "    <tr>\n",
       "      <th>4</th>\n",
       "      <td>https://global-factiva-com.ezproxy.cul.columbi...</td>\n",
       "      <td>NEWS\\nReservists back in police jobs raise con...</td>\n",
       "      <td>USA</td>\n",
       "      <td>2007-11-16 00:00:00</td>\n",
       "      <td>shortly after wayne williamson returned to tex...</td>\n",
       "    </tr>\n",
       "  </tbody>\n",
       "</table>\n",
       "</div>"
      ],
      "text/plain": [
       "                                                Link  \\\n",
       "0  https://global-factiva-com.ezproxy.cul.columbi...   \n",
       "1  https://global-factiva-com.ezproxy.cul.columbi...   \n",
       "2  https://global-factiva-com.ezproxy.cul.columbi...   \n",
       "3  https://global-factiva-com.ezproxy.cul.columbi...   \n",
       "4  https://global-factiva-com.ezproxy.cul.columbi...   \n",
       "\n",
       "                                               Title Source  \\\n",
       "0  A-Section\\r\\nA racial 'Rorschach test'\\r\\nMich...     WP   \n",
       "1  NEWS\\nSchool is the surest path to achieving K...    USA   \n",
       "2  NEWS\\nObama puts courage ahead of political ex...    USA   \n",
       "3  NEWS\\nBusting the 'code of silence' ; Milwauke...    USA   \n",
       "4  NEWS\\nReservists back in police jobs raise con...    USA   \n",
       "\n",
       "                  Date                                               Text  \n",
       "0  2015-11-05 00:00:00  b rorschach test  michael e  miller 1453 words...  \n",
       "1  2008-04-08 00:00:00  two things got my attention last week  one was...  \n",
       "2  2008-03-25 00:00:00  if there is lesson to learn from the speech on...  \n",
       "3  2007-12-18 00:00:00  the brutal beatings of frank jude and lovell h...  \n",
       "4  2007-11-16 00:00:00  shortly after wayne williamson returned to tex...  "
      ]
     },
     "execution_count": 9,
     "metadata": {},
     "output_type": "execute_result"
    }
   ],
   "source": [
    "valid_media.head()"
   ]
  },
  {
   "cell_type": "code",
   "execution_count": 10,
   "metadata": {},
   "outputs": [
    {
     "data": {
      "text/plain": [
       "[2099, 2461, 3066]"
      ]
     },
     "execution_count": 10,
     "metadata": {},
     "output_type": "execute_result"
    }
   ],
   "source": [
    "wrong_date_index"
   ]
  },
  {
   "cell_type": "code",
   "execution_count": 11,
   "metadata": {},
   "outputs": [
    {
     "data": {
      "text/html": [
       "<div>\n",
       "<style scoped>\n",
       "    .dataframe tbody tr th:only-of-type {\n",
       "        vertical-align: middle;\n",
       "    }\n",
       "\n",
       "    .dataframe tbody tr th {\n",
       "        vertical-align: top;\n",
       "    }\n",
       "\n",
       "    .dataframe thead th {\n",
       "        text-align: right;\n",
       "    }\n",
       "</style>\n",
       "<table border=\"1\" class=\"dataframe\">\n",
       "  <thead>\n",
       "    <tr style=\"text-align: right;\">\n",
       "      <th></th>\n",
       "      <th>Link</th>\n",
       "      <th>Title</th>\n",
       "      <th>Source</th>\n",
       "      <th>Date</th>\n",
       "      <th>Text</th>\n",
       "    </tr>\n",
       "  </thead>\n",
       "  <tbody>\n",
       "    <tr>\n",
       "      <th>2099</th>\n",
       "      <td>https://global-factiva-com.ezproxy.cul.columbi...</td>\n",
       "      <td>Dallas Police Murders: Activists Tread Fine Li...</td>\n",
       "      <td>WSJ</td>\n",
       "      <td>after clashes at protests</td>\n",
       "      <td>protest groups aiming to highlight police brut...</td>\n",
       "    </tr>\n",
       "    <tr>\n",
       "      <th>2461</th>\n",
       "      <td>https://global-factiva-com.ezproxy.cul.columbi...</td>\n",
       "      <td>Key</td>\n",
       "      <td>WSJ</td>\n",
       "      <td>What Happens When Police Officers Wear Body C...</td>\n",
       "      <td>ns when police officers wear body cameras chri...</td>\n",
       "    </tr>\n",
       "    <tr>\n",
       "      <th>3066</th>\n",
       "      <td>https://global-factiva-com.ezproxy.cul.columbi...</td>\n",
       "      <td>A-Section\\r\\nThree</td>\n",
       "      <td>WP</td>\n",
       "      <td>Republicans wrestle with: 'Black Lives Matter'</td>\n",
       "      <td>b s republicans wrestle with   black lives mat...</td>\n",
       "    </tr>\n",
       "  </tbody>\n",
       "</table>\n",
       "</div>"
      ],
      "text/plain": [
       "                                                   Link  \\\n",
       "2099  https://global-factiva-com.ezproxy.cul.columbi...   \n",
       "2461  https://global-factiva-com.ezproxy.cul.columbi...   \n",
       "3066  https://global-factiva-com.ezproxy.cul.columbi...   \n",
       "\n",
       "                                                  Title Source  \\\n",
       "2099  Dallas Police Murders: Activists Tread Fine Li...    WSJ   \n",
       "2461                                                Key    WSJ   \n",
       "3066                                A-Section\\r\\nThree      WP   \n",
       "\n",
       "                                                   Date  \\\n",
       "2099                          after clashes at protests   \n",
       "2461   What Happens When Police Officers Wear Body C...   \n",
       "3066     Republicans wrestle with: 'Black Lives Matter'   \n",
       "\n",
       "                                                   Text  \n",
       "2099  protest groups aiming to highlight police brut...  \n",
       "2461  ns when police officers wear body cameras chri...  \n",
       "3066  b s republicans wrestle with   black lives mat...  "
      ]
     },
     "execution_count": 11,
     "metadata": {},
     "output_type": "execute_result"
    }
   ],
   "source": [
    "valid_media.loc[wrong_date_index, :]"
   ]
  },
  {
   "cell_type": "code",
   "execution_count": 12,
   "metadata": {},
   "outputs": [],
   "source": [
    "# Remove the 3 rows with no valid dates\n",
    "valid_media = valid_media.drop(wrong_date_index)\n",
    "valid_media = valid_media.reset_index(drop = True)\n",
    "valid_media['Date'] = valid_media['Date'].dt.date"
   ]
  },
  {
   "cell_type": "code",
   "execution_count": 13,
   "metadata": {},
   "outputs": [
    {
     "data": {
      "text/html": [
       "<div>\n",
       "<style scoped>\n",
       "    .dataframe tbody tr th:only-of-type {\n",
       "        vertical-align: middle;\n",
       "    }\n",
       "\n",
       "    .dataframe tbody tr th {\n",
       "        vertical-align: top;\n",
       "    }\n",
       "\n",
       "    .dataframe thead th {\n",
       "        text-align: right;\n",
       "    }\n",
       "</style>\n",
       "<table border=\"1\" class=\"dataframe\">\n",
       "  <thead>\n",
       "    <tr style=\"text-align: right;\">\n",
       "      <th></th>\n",
       "      <th>Link</th>\n",
       "      <th>Title</th>\n",
       "      <th>Source</th>\n",
       "      <th>Date</th>\n",
       "      <th>Text</th>\n",
       "    </tr>\n",
       "  </thead>\n",
       "  <tbody>\n",
       "    <tr>\n",
       "      <th>0</th>\n",
       "      <td>https://global-factiva-com.ezproxy.cul.columbi...</td>\n",
       "      <td>A-Section\\r\\nA racial 'Rorschach test'\\r\\nMich...</td>\n",
       "      <td>WP</td>\n",
       "      <td>2015-11-05</td>\n",
       "      <td>b rorschach test  michael e  miller 1453 words...</td>\n",
       "    </tr>\n",
       "    <tr>\n",
       "      <th>1</th>\n",
       "      <td>https://global-factiva-com.ezproxy.cul.columbi...</td>\n",
       "      <td>NEWS\\nSchool is the surest path to achieving K...</td>\n",
       "      <td>USA</td>\n",
       "      <td>2008-04-08</td>\n",
       "      <td>two things got my attention last week  one was...</td>\n",
       "    </tr>\n",
       "    <tr>\n",
       "      <th>2</th>\n",
       "      <td>https://global-factiva-com.ezproxy.cul.columbi...</td>\n",
       "      <td>NEWS\\nObama puts courage ahead of political ex...</td>\n",
       "      <td>USA</td>\n",
       "      <td>2008-03-25</td>\n",
       "      <td>if there is lesson to learn from the speech on...</td>\n",
       "    </tr>\n",
       "    <tr>\n",
       "      <th>3</th>\n",
       "      <td>https://global-factiva-com.ezproxy.cul.columbi...</td>\n",
       "      <td>NEWS\\nBusting the 'code of silence' ; Milwauke...</td>\n",
       "      <td>USA</td>\n",
       "      <td>2007-12-18</td>\n",
       "      <td>the brutal beatings of frank jude and lovell h...</td>\n",
       "    </tr>\n",
       "    <tr>\n",
       "      <th>4</th>\n",
       "      <td>https://global-factiva-com.ezproxy.cul.columbi...</td>\n",
       "      <td>NEWS\\nReservists back in police jobs raise con...</td>\n",
       "      <td>USA</td>\n",
       "      <td>2007-11-16</td>\n",
       "      <td>shortly after wayne williamson returned to tex...</td>\n",
       "    </tr>\n",
       "  </tbody>\n",
       "</table>\n",
       "</div>"
      ],
      "text/plain": [
       "                                                Link  \\\n",
       "0  https://global-factiva-com.ezproxy.cul.columbi...   \n",
       "1  https://global-factiva-com.ezproxy.cul.columbi...   \n",
       "2  https://global-factiva-com.ezproxy.cul.columbi...   \n",
       "3  https://global-factiva-com.ezproxy.cul.columbi...   \n",
       "4  https://global-factiva-com.ezproxy.cul.columbi...   \n",
       "\n",
       "                                               Title Source        Date  \\\n",
       "0  A-Section\\r\\nA racial 'Rorschach test'\\r\\nMich...     WP  2015-11-05   \n",
       "1  NEWS\\nSchool is the surest path to achieving K...    USA  2008-04-08   \n",
       "2  NEWS\\nObama puts courage ahead of political ex...    USA  2008-03-25   \n",
       "3  NEWS\\nBusting the 'code of silence' ; Milwauke...    USA  2007-12-18   \n",
       "4  NEWS\\nReservists back in police jobs raise con...    USA  2007-11-16   \n",
       "\n",
       "                                                Text  \n",
       "0  b rorschach test  michael e  miller 1453 words...  \n",
       "1  two things got my attention last week  one was...  \n",
       "2  if there is lesson to learn from the speech on...  \n",
       "3  the brutal beatings of frank jude and lovell h...  \n",
       "4  shortly after wayne williamson returned to tex...  "
      ]
     },
     "execution_count": 13,
     "metadata": {},
     "output_type": "execute_result"
    }
   ],
   "source": [
    "valid_media.head()"
   ]
  },
  {
   "cell_type": "markdown",
   "metadata": {},
   "source": [
    "## Check text content for WP"
   ]
  },
  {
   "cell_type": "code",
   "execution_count": 14,
   "metadata": {},
   "outputs": [],
   "source": [
    "WP_index = valid_media.index[valid_media['Source'] == 'WP'].tolist()"
   ]
  },
  {
   "cell_type": "code",
   "execution_count": 15,
   "metadata": {
    "collapsed": true
   },
   "outputs": [
    {
     "data": {
      "text/plain": [
       "'b rorschach test  michael e  miller 1453 words 5 november 2015 the washington post wp final a03 english copyright 2015  the washington post co  all rights reserved university of north texas professor dorothy bland was walking around corinth  her affluent dallas suburb  on oct  24 when she was stopped by police  bland  who is african american  had been exercising in the street  the officers  who are both white  asked her to walk on the opposite side so she could see oncoming traffic or  even better  to use the sidewalk  roughly three minutes later  she was on her way  the short and seemingly simple interaction has proved anything but  however  several days later  bland  who is the dean of unt s mayborn school of journalism  wrote an op ed in the dallas morning news claiming that she had been racially profiled   walking while black is crime in many jurisdictions   she wrote   may god have mercy on our nation   corinth police responded by releasing the officers  dashboard camera video of the interaction and asserting that bland had turned  cordial  stop into  racial issue    if we didn t have the video  these officers would have serious allegations against them   corinth police chief debra walthall told fox news   every white officer that stops an african american does not constitute racial profiling   now it is bland  not the officers  who is facing pressure  as more than 3 500 people have signed petition urging the university to fire her  although disciplinary action against either the professor or the officers appears unlikely  the video is still generating heated debate about law enforcement and race relations  like bland  many americans see the stop as subtle but significant instance of racial prejudice by police   if officers were concerned only about bland s safety and her impeding traffic  why did they ask her for her id  why did they need her birth date  why did they radio in  name check    wrote dallas morning news writer leona allen  who is african american   we re not fools   allen added   sure looks like they re calling to check to see if she had outstanding warrants   many others were equally angry   but with bland   as person of color  this upsets me   said former dallas mayor ron kirk  who is also african american   she took advantage of very innocent and thoughtful police response   walk on the  correct  side of the street   she s just looking for her skip gates moment   kirk told the morning news  referring to the 2009 arrest of black harvard professor henry louis  skip  gates  which led to accusations of racism against the cambridge  mass   police officer involved   there s real danger here   on youtube  meanwhile  copy of the video quickly gathered hundreds of comments  many of them containing expletives and racial epithets   it s rorschach test   morning news columnist jacquielynn floyd wrote of the video   the way we interpret it probably says great deal about our beliefs  expectations and experiences in nation that remains woefully divided along racial lines   were it not for the country s simmering debate over race and policing  the encounter could be chalked up as an example of the  rashomon  effect  the phenomenon  in which different people have contradictory interpretations of the same event  draws its name from the eponymous 1950 classic film by japanese director akira kurosawa  what is undisputed is that dorothy bland was walking in the street near her corinth home when she was stopped by two white police officers  bland wrote in her recounting   like most african americans  am familiar with the phrase  driving while black   but was really being stopped for walking on the street in my own neighborhood   she continued   knowing that the police officers are typically armed with guns and are lot bigger than my 5 feet  4 inches  had no interest in my life s story playing out like trayvon martin s death  stopped and asked the two officers if there was problem  don t remember getting decent answer before one of the officers asked me where lived and for identification   i remember saying something like   around the corner  this is my neighborhood  and i m taxpayer who pays lot of taxes   as for the i d  question  how many americans typically carry i d  with them on their morning walk   i guess was simply brown face in an affluent neighborhood  told the police didn t like to walk in the rain  and one of them told me   my dog doesn t like to walk in the rain   ouch   bland was clearly angered by the encounter  she compared the stop to other encounters that have led to the deaths of african americans at the hands of police officers   although am not related to sandra bland   who died in texas jail after being arrested during traffic stop   i thought about her  freddie gray and the dozens of others who have died while in police custody   the professor wrote   for safety s sake  posted the photo of the officers on facebook  and within hours  more than 100 facebook friends spread the news from new york to california   she also wrote that she refused  to let this incident ruin my life   bland s account is largely accurate  when it is compared with the video  the only details she appears to get wrong are her claim that the officers  interrupted  her walk with  flashing lights and sirens  and that after asking  the two officers is there was problem       don t remember getting decent answer before o '"
      ]
     },
     "execution_count": 15,
     "metadata": {},
     "output_type": "execute_result"
    }
   ],
   "source": [
    "valid_media.loc[WP_index[0], 'Text']"
   ]
  },
  {
   "cell_type": "markdown",
   "metadata": {},
   "source": [
    "#### For contents in WP articles, there are irrelevant information at the beginning of the \"Text\" column, remove them here."
   ]
  },
  {
   "cell_type": "code",
   "execution_count": 21,
   "metadata": {},
   "outputs": [],
   "source": [
    "for index in WP_index:\n",
    "    position = valid_media.loc[index, 'Text'].find('all rights reserved')\n",
    "    valid_media.loc[index, 'Text'] = valid_media.loc[index, 'Text'][position+20:]"
   ]
  },
  {
   "cell_type": "code",
   "execution_count": 25,
   "metadata": {
    "collapsed": true
   },
   "outputs": [
    {
     "data": {
      "text/plain": [
       "'with 14 people killed within the first 11 days of july  d c  police chief charles h  ramsey was on solid ground in declaring  crime emergency  tuesday  14 percent rise in robberies over the same period last year also argues forcefully for step up in policing  as this latest surge amply demonstrates  no quadrant of the city is beyond the reach of crime  the emergency declaration will allow the chief to quickly deploy the department s 3 800 officers to crime hot spots or wherever additional patrols and plainclothes police are needed  but will this be enough  the answer is no  as the chief will tell you himself  the d c  police department cannot stop prisons from putting inmates    unskilled  unprepared and jail hardened    back on the streets  as apparently was the case with two of the suspects in the slaying in georgetown early monday morning  thousands of ex offenders return to the district each year  many still reading and performing at the grade school level they had attained when first incarcerated  that too many relapse into criminal behavior is not in question  what s more  the police cannot confiscate all of the guns and knives within the district s borders before they are used in crimes  the police department can certainly increase coverage in hard hit neighborhoods  but 3 800 member police force cannot be everywhere at once  and it cannot do the job alone  citizens  who unlike the police are everywhere  can help by being vigilant and by reporting suspicious activity before  not after  the fact  does that mean following the admonition of inspector andy solberg  commander of the 2nd district  who suggested during public meeting called to discuss this week s georgetown slaying that suspicious looking people in the neighborhood    those who are  going to stand out     should be reported  yes  but should the criterion be race because  as inspector solberg said   black people are unusual  in georgetown  the answer  of course  is no  behavior  actions  demeanor    not skin color    should be the basis for picking up the phone and dialing 911  citizens can also help the police and themselves by insisting on better rehabilitation programs within prisons and more support services for returning inmates  they can also demand frontal attack on the pipeline that produces the kind of people who end up robbing  stealing and ultimately killing  within that pipeline can be found poor parenting  inferior education and lack of values  drug culture  and an environment where bad behavior is tolerated  if not encouraged  that pipeline cannot be closed by the police  achieving that end requires civic effort involving the home and the religious and business communities  and political leadership when laws are made and resources are channeled  and that requires fundamental change in the district s priorities  chief ramsey and his police force can t make that happen  either  http   www washingtonpost com wp200607132ed emergency13 washington post document wp00000020060713e27d0001k '"
      ]
     },
     "execution_count": 25,
     "metadata": {},
     "output_type": "execute_result"
    }
   ],
   "source": [
    "valid_media.loc[WP_index[3], 'Text']"
   ]
  },
  {
   "cell_type": "markdown",
   "metadata": {},
   "source": [
    "#### There are also irrelevant information at the end of some of the WP articles, remove them here."
   ]
  },
  {
   "cell_type": "code",
   "execution_count": 48,
   "metadata": {},
   "outputs": [],
   "source": [
    "# find last match of 'http' and remove all characters after that\n",
    "for index in WP_index:\n",
    "    match = None\n",
    "    for match in re.finditer('http', valid_media.loc[index, 'Text']):\n",
    "        continue\n",
    "    if match != None:\n",
    "        match = match.start()\n",
    "        valid_media.loc[index, 'Text'] = valid_media.loc[index, 'Text'][:match]\n",
    "            "
   ]
  },
  {
   "cell_type": "code",
   "execution_count": 50,
   "metadata": {
    "collapsed": true
   },
   "outputs": [
    {
     "data": {
      "text/plain": [
       "'police chief charles h  ramsey s latest declaration of  crime emergency  in the district implies that temporary or unexpected situation has arisen when in fact our city s crime problem is nothing new  what is occurring is that after eight years  the policies of this police administration are coming to fruition  instead of fighting crime aggressively in the most violent communities  the metropolitan police department has focused its resources on public relations and in neighborhoods where political influence and money have commanded attention  as result  this administration has gathered praise from the community and media while violent crime has continued unchecked in the city s poorest neighborhoods  the department has failed to develop strategies for reducing crime and encouraging aggressive  effective policing but instead has focused its efforts on instituting disciplinary system that actually discourages proactive policing  indeed  the department has more people assigned to investigate its own officers than it does to investigate homicides  with officers forced to second guess every decision they make  it should come as no surprise that violent crime has spread across the city  the excessive discipline of officers is not merely complaint of the rank and file  but rather problem that directly impacts the effectiveness of officers on the street  every day  officers are disciplined  suspended and terminated for minor infractions and baseless charges  for instance  two officers remain suspended because they returned fire after being ambushed by armed robbers  despite later being cleared by department investigators  officers have legitimate fear of losing their jobs whenever they make the split second decisions that police work requires  consequently  police officers are leaving the department for other agencies at such startling rate the department will not even disclose the numbers  if we want to get serious about fighting crime and protecting d c  residents  we need to empower the individual police officer  it is time that we reward proactive  aggressive policing  we need to stop disciplining officers for nonsensical reasons  and we need to stop giving more deference to criminals than cops  police officers must know that when they make tough calls and put their lives on the line to fight crime  our city and citizens will support them  as for chief ramsey  instead of creating policies that hinder police work and damage morale  he needs to develop active long term strategies for reducing crime and strengthening the department  rather than simply declaring  crime emergency  each summer     kristopher baumann washington is chairman of the fraternal order of police metropolitan police department labor committee  '"
      ]
     },
     "execution_count": 50,
     "metadata": {},
     "output_type": "execute_result"
    }
   ],
   "source": [
    "valid_media.loc[WP_index[2], 'Text']"
   ]
  },
  {
   "cell_type": "markdown",
   "metadata": {},
   "source": [
    "## Check text content for USA"
   ]
  },
  {
   "cell_type": "code",
   "execution_count": 51,
   "metadata": {},
   "outputs": [],
   "source": [
    "USA_index = valid_media.index[valid_media['Source'] == 'USA'].tolist()"
   ]
  },
  {
   "cell_type": "code",
   "execution_count": 71,
   "metadata": {
    "collapsed": true
   },
   "outputs": [
    {
     "data": {
      "text/plain": [
       "'the amount of surplus military equipment sent to local police departments across the nation has sharply declined despite an executive order president trump signed that was intended to increase those transfers  usa today analysis has found  shipments of gear in the first three months of 2018 fell by half compared with the same period last year  department of defense data show  the amount of armored vehicles  high caliber rifles and other equipment measured by dollar value also slid  trump s executive order  signed last august  rescinded limits imposed on the program by the obama administration after the battlefield style response to the riots in ferguson  mo   in 2014  some police officials said they are approaching the program cautiously despite robust support from trump   if you have long rifle or you have military vehicle  it looks bad   said sgt stephen wells  spokesman for the kern county sheriff s office in california  which ordered about 90 military items from the pentagon in 2015 but only one last year   we re not an occupying force   since 1991  the program has recycled about  6 8 billion in military equipment purchased by federal taxpayers  it came under scrutiny amid the riots in ferguson that followed the fatal shooting of michael brown by police  images of officers wearing tactical gear standing alongside armored vehicles flashed across network news and drew bipartisan criticism in congress  in response  president obama placed limits on some kinds of equipment in 2015  the show of force  obama said  opened rift between the police and the community at time when both would have benefited from better relations  but the trump administration said the restrictions went too far  limiting police from obtaining equipment that could help them meet modern challenges  trump s order was touted at the time as way to increase the flow of  lifesaving gear  to police  announcing the order last year  attorney general jeff sessions criticized obama for the limits and vowed the trump administration would not  put superficial concerns above public safety   the data show bump in shipments in september  the month immediately following trump s action  but that appears to have been an anomaly  the average monthly value of gear shipped to local departments in 2016 was just over  17 million  so far this year  the average monthly value stands at  5 2 million  white house spokeswoman referred questions to the justice department  spokeswoman at justice referred questions to the defense department  michelle mccaskill  spokeswoman for the defense logistics agency  which oversees the program  said this year s decline is  likely due to those     items not being available   she described the change ushered in by trump s executive order as  minimal   but while some police departments are more aware of the public relations concerns associated with the equipment  wells and others suggested that local law enforcement is unlikely to abandon the program entirely  the equipment  he said  remains crucial for dangerous situations such as an active shooter  by far the most common item transferred to police last year were military rifles  followed by weapon sights and night vision goggles  james pasco  executive director of the fraternal order of police  said he believes trump s order has put police across the nation in stronger position  both trump and sessions closely aligned with rank and file police during the presidential campaign  pasco speculated that the drop off is coincidence  though he acknowledged that some local political leaders have been reluctant to embrace the program with zeal   if there s spate of additional unrest  then predict that there ll be greater demand   he said  critics pounced on the program again last year when the government accountability office created fictitious agency and obtained more than 100 military items worth  1 2 million  including night vision goggles and simulated pipe bombs  usa today s analysis focused exclusively on equipment the department of defense altered  or  demilitarized   before transferring it to local government  that means rifles  armored trucks  night vision sniper scopes and other war fighting equipment was included  but not radios  boots and printers  rick myers  executive director of the major cities chiefs association  said he was not surprised trump s order didn t result in sustained increase in demand  the problem with the program isn t the equipment  he said  but how some departments used it   police chiefs across the country are little more sensitive to the optics   myers said   i think we re just maybe little smarter about it   for full text of graphic map  please see online or print versions of this story the value of military gear sent to local police  in millions  2016 q1  34 8 q2  55 9 q3  25 5 q4  91 9 2017 q1  31 3 q2  19 8 q3  21 7 q4  15 3 2018 q1  15 6 source usa today analysis  defense logistics agency data credit  john fritze  usa today '"
      ]
     },
     "execution_count": 71,
     "metadata": {},
     "output_type": "execute_result"
    }
   ],
   "source": [
    "valid_media.loc[USA_index[100], 'Text']"
   ]
  },
  {
   "cell_type": "code",
   "execution_count": 68,
   "metadata": {},
   "outputs": [],
   "source": [
    "# find last match of 'usa today information' and remove all characters after that\n",
    "for index in USA_index:\n",
    "    match = None\n",
    "    for match in re.finditer('usa today information', valid_media.loc[index, 'Text']):\n",
    "        continue\n",
    "    if match != None:\n",
    "        match = match.start()\n",
    "        valid_media.loc[index, 'Text'] = valid_media.loc[index, 'Text'][:match]\n",
    "            "
   ]
  },
  {
   "cell_type": "code",
   "execution_count": 72,
   "metadata": {
    "collapsed": true
   },
   "outputs": [
    {
     "data": {
      "text/plain": [
       "'the amount of surplus military equipment sent to local police departments across the nation has sharply declined despite an executive order president trump signed that was intended to increase those transfers  usa today analysis has found  shipments of gear in the first three months of 2018 fell by half compared with the same period last year  department of defense data show  the amount of armored vehicles  high caliber rifles and other equipment measured by dollar value also slid  trump s executive order  signed last august  rescinded limits imposed on the program by the obama administration after the battlefield style response to the riots in ferguson  mo   in 2014  some police officials said they are approaching the program cautiously despite robust support from trump   if you have long rifle or you have military vehicle  it looks bad   said sgt stephen wells  spokesman for the kern county sheriff s office in california  which ordered about 90 military items from the pentagon in 2015 but only one last year   we re not an occupying force   since 1991  the program has recycled about  6 8 billion in military equipment purchased by federal taxpayers  it came under scrutiny amid the riots in ferguson that followed the fatal shooting of michael brown by police  images of officers wearing tactical gear standing alongside armored vehicles flashed across network news and drew bipartisan criticism in congress  in response  president obama placed limits on some kinds of equipment in 2015  the show of force  obama said  opened rift between the police and the community at time when both would have benefited from better relations  but the trump administration said the restrictions went too far  limiting police from obtaining equipment that could help them meet modern challenges  trump s order was touted at the time as way to increase the flow of  lifesaving gear  to police  announcing the order last year  attorney general jeff sessions criticized obama for the limits and vowed the trump administration would not  put superficial concerns above public safety   the data show bump in shipments in september  the month immediately following trump s action  but that appears to have been an anomaly  the average monthly value of gear shipped to local departments in 2016 was just over  17 million  so far this year  the average monthly value stands at  5 2 million  white house spokeswoman referred questions to the justice department  spokeswoman at justice referred questions to the defense department  michelle mccaskill  spokeswoman for the defense logistics agency  which oversees the program  said this year s decline is  likely due to those     items not being available   she described the change ushered in by trump s executive order as  minimal   but while some police departments are more aware of the public relations concerns associated with the equipment  wells and others suggested that local law enforcement is unlikely to abandon the program entirely  the equipment  he said  remains crucial for dangerous situations such as an active shooter  by far the most common item transferred to police last year were military rifles  followed by weapon sights and night vision goggles  james pasco  executive director of the fraternal order of police  said he believes trump s order has put police across the nation in stronger position  both trump and sessions closely aligned with rank and file police during the presidential campaign  pasco speculated that the drop off is coincidence  though he acknowledged that some local political leaders have been reluctant to embrace the program with zeal   if there s spate of additional unrest  then predict that there ll be greater demand   he said  critics pounced on the program again last year when the government accountability office created fictitious agency and obtained more than 100 military items worth  1 2 million  including night vision goggles and simulated pipe bombs  usa today s analysis focused exclusively on equipment the department of defense altered  or  demilitarized   before transferring it to local government  that means rifles  armored trucks  night vision sniper scopes and other war fighting equipment was included  but not radios  boots and printers  rick myers  executive director of the major cities chiefs association  said he was not surprised trump s order didn t result in sustained increase in demand  the problem with the program isn t the equipment  he said  but how some departments used it   police chiefs across the country are little more sensitive to the optics   myers said   i think we re just maybe little smarter about it   for full text of graphic map  please see online or print versions of this story the value of military gear sent to local police  in millions  2016 q1  34 8 q2  55 9 q3  25 5 q4  91 9 2017 q1  31 3 q2  19 8 q3  21 7 q4  15 3 2018 q1  15 6 source usa today analysis  defense logistics agency data credit  john fritze  usa today '"
      ]
     },
     "execution_count": 72,
     "metadata": {},
     "output_type": "execute_result"
    }
   ],
   "source": [
    "valid_media.loc[USA_index[100], 'Text']"
   ]
  },
  {
   "cell_type": "markdown",
   "metadata": {},
   "source": [
    "## Check text content for WSJ"
   ]
  },
  {
   "cell_type": "code",
   "execution_count": 73,
   "metadata": {},
   "outputs": [],
   "source": [
    "WSJ_index = valid_media.index[valid_media['Source'] == 'WSJ'].tolist()"
   ]
  },
  {
   "cell_type": "code",
   "execution_count": 82,
   "metadata": {
    "collapsed": true
   },
   "outputs": [
    {
     "data": {
      "text/plain": [
       "'rica police charged in dragging death devon maylie by devon maylie 423 words 2 march 2013 the wall street journal a9 english  copyright  c  2013  dow jones   company  inc   johannesburg    south africa s police watchdog said friday that it arrested eight policemen on charges of murder in connection with the dragging death tuesday of 27 year old mozambican man in police custody that was captured on video  the announcement comes after public uproar over the death of the man  identified by police as taxi driver mido macia  his death came to light on thursday after video taken by bystander    and aired on local television    showed mr  macia being strapped to police van and then dragged down the street  he died in custody several hours later in daveyton  on the outskirts of johannesburg  the eight policemen  who earlier friday were suspended from active duty and disarmed by the country s police commissioner  will appear in the daveyton magistrate s court on monday  said moses dlamini  spokesman for the independent police investigative directorate  government arm that investigates potential criminal offenses by police  the arrest comes after south africa s ruling party  president and acting police minister called for action   all police officers have duty to fight crime and those who are not worthy of wearing our badge and uniform must know that they have no place within  the south african police service    said acting minister of police siyabonga cwele  spokesman for the police didn t respond to requests to comment  the police watchdog said thursday that it opened an investigation into the death of the man  the independent police investigative directorate said postmortem showed the cause of death to be head injuries and internal bleeding  it noted other unspecified injuries  mr  dlamini said second postmortem will be presented monday  but declined to give further details   yes there are challenges and we shall deal with them   police commissioner riah phiyega said   what is in the video is not how the south african police       goes about its work   the video showed four police officers strapping the man s wrists to bench inside police van  two police officers then stood behind the van holding his feet as the vehicle started to move  before dropping the man s feet on the ground and allowing him to be dragged along the pavement  the video couldn t be independently verified  but police and the watchdog haven t denied the accuracy of what was recorded in daylight before crowd  subscribe to wsj  http   online wsj com ezproxy cul columbia edu mod djnwires license this article from dow jones reprint service dow jones   company  inc  document j000000020130302e9320002p'"
      ]
     },
     "execution_count": 82,
     "metadata": {},
     "output_type": "execute_result"
    }
   ],
   "source": [
    "valid_media.loc[WSJ_index[6], 'Text']"
   ]
  },
  {
   "cell_type": "code",
   "execution_count": 83,
   "metadata": {},
   "outputs": [],
   "source": [
    "# find last match of 'license this article' and remove all characters after that\n",
    "for index in WSJ_index:\n",
    "    match = None\n",
    "    for match in re.finditer('license this article', valid_media.loc[index, 'Text']):\n",
    "        continue\n",
    "    if match != None:\n",
    "        match = match.start()\n",
    "        valid_media.loc[index, 'Text'] = valid_media.loc[index, 'Text'][:match]"
   ]
  },
  {
   "cell_type": "code",
   "execution_count": 86,
   "metadata": {
    "collapsed": true
   },
   "outputs": [
    {
     "data": {
      "text/plain": [
       "'chicago    fabiola camacho has steered her life onto different path  and she wants the same for the chicago police department   growing up was kind of always out and being bad and stuff   says the 21 year old  who is pursuing bachelor s degree   i decided wanted to help girls that were in my exact situation   ms  camacho was among dozens of potential recruits    many african american or  like herself  hispanic    at recentopen house held by chicago police as they set out to hire almost thousand officers in response to this year s decades high murder tally  in addition to getting more police on the street  the city s force is trying to remake itself as more diverse to win back support of minority communities  while killings have swelled to over 700 for the first time since the 1990s  police are struggling to solve them  police say this is in part because communities affected by the violence aren t coming forward to help with investigations  nationally  12  of local officers are black  according to u s  justice department survey  in chicago alittle more than half of sworn officers are white  with hispanics and african americans each making up just less than quarter of officers  in city about two thirds minority   cpd s command staff is already the most diverse leadership team in the department s history   said police superintendent eddie johnson who is african american   but we can do better   the push to hire more racial minorities follows similar efforts in cities like ferguson  mo   which was required to do so after justice department investigation following the shooting of michael brown  in july  then dallas police chief david brown told black lives matter protesters that the department was open to them and that they should  put an application in  to change things from the inside  this year  more than 250 people have applied to be police officers in dallas  more than the 115 in 2015  experts note there is no guarantee that more diverse police force will bridge divide with minority communities   the evidence is inconclusive as to whether or not having diverse force will reduce police misconduct  officer complaints  and  unjustified use of force   said forrest stuart  sociologist at the university of chicago who studies policing  ms  camacho knows she has tough road ahead to become an officer  she is only 4 feet 11 inches tall and admits she isn t exactly fitness buff  but ms  camacho said shorter female officer that she met at the recruiting event  doesn t let her height get in the way of things   and she said she was assured that she would gain confidence through her training  '"
      ]
     },
     "execution_count": 86,
     "metadata": {},
     "output_type": "execute_result"
    }
   ],
   "source": [
    "valid_media.loc[WSJ_index[100], 'Text']"
   ]
  },
  {
   "cell_type": "markdown",
   "metadata": {},
   "source": [
    "## Check text content for New York Times"
   ]
  },
  {
   "cell_type": "code",
   "execution_count": 87,
   "metadata": {},
   "outputs": [],
   "source": [
    "NY_index = valid_media.index[valid_media['Source'] == 'NY'].tolist()"
   ]
  },
  {
   "cell_type": "code",
   "execution_count": 92,
   "metadata": {
    "scrolled": true
   },
   "outputs": [
    {
     "data": {
      "text/plain": [
       "'two fullerton police officers face felony charges in beating in july that left homeless man dead  the orange county district attorney said wednesday  officer manuel ramos was charged with second degree murder and involuntary manslaughter in the beating of kelly thomas  37  drifter with schizophrenia who died five days after the encounter with the police  who were responding to reports of attempted break ins to cars  cpl  jay cicinelli was charged with involuntary manslaughter and excessive use of force  the district attorney  tony rackauckas  said the primary cause of mr  thomas s death was compression of his chest that left him unable to breathe as police officers held him down and beat him  six officers were placed on leave after the beating  but the four others have not been charged  the new york times company document nytf000020110922e79m0005u'"
      ]
     },
     "execution_count": 92,
     "metadata": {},
     "output_type": "execute_result"
    }
   ],
   "source": [
    "valid_media.loc[NY_index[1], 'Text']"
   ]
  },
  {
   "cell_type": "code",
   "execution_count": 93,
   "metadata": {},
   "outputs": [],
   "source": [
    "# find last match of 'the new york times company' and remove all characters after that\n",
    "for index in NY_index:\n",
    "    match = None\n",
    "    for match in re.finditer('the new york times company', valid_media.loc[index, 'Text']):\n",
    "        continue\n",
    "    if match != None:\n",
    "        match = match.start()\n",
    "        valid_media.loc[index, 'Text'] = valid_media.loc[index, 'Text'][:match]"
   ]
  },
  {
   "cell_type": "code",
   "execution_count": 94,
   "metadata": {},
   "outputs": [
    {
     "data": {
      "text/plain": [
       "'two fullerton police officers face felony charges in beating in july that left homeless man dead  the orange county district attorney said wednesday  officer manuel ramos was charged with second degree murder and involuntary manslaughter in the beating of kelly thomas  37  drifter with schizophrenia who died five days after the encounter with the police  who were responding to reports of attempted break ins to cars  cpl  jay cicinelli was charged with involuntary manslaughter and excessive use of force  the district attorney  tony rackauckas  said the primary cause of mr  thomas s death was compression of his chest that left him unable to breathe as police officers held him down and beat him  six officers were placed on leave after the beating  but the four others have not been charged  '"
      ]
     },
     "execution_count": 94,
     "metadata": {},
     "output_type": "execute_result"
    }
   ],
   "source": [
    "valid_media.loc[NY_index[1], 'Text']"
   ]
  },
  {
   "cell_type": "markdown",
   "metadata": {},
   "source": [
    "## Clean title for every article"
   ]
  },
  {
   "cell_type": "code",
   "execution_count": 107,
   "metadata": {},
   "outputs": [],
   "source": [
    "wrong_title_index = []\n",
    "for i in range(valid_media.shape[0]):\n",
    "    try:\n",
    "        valid_media.loc[i, 'Title'] = valid_media.loc[i, 'Title'].split('\\n')[1].rstrip()\n",
    "    except:\n",
    "        wrong_title_index.append(i)"
   ]
  },
  {
   "cell_type": "code",
   "execution_count": 108,
   "metadata": {},
   "outputs": [
    {
     "data": {
      "text/plain": [
       "[]"
      ]
     },
     "execution_count": 108,
     "metadata": {},
     "output_type": "execute_result"
    }
   ],
   "source": [
    "wrong_title_index"
   ]
  },
  {
   "cell_type": "code",
   "execution_count": 109,
   "metadata": {},
   "outputs": [
    {
     "data": {
      "text/html": [
       "<div>\n",
       "<style scoped>\n",
       "    .dataframe tbody tr th:only-of-type {\n",
       "        vertical-align: middle;\n",
       "    }\n",
       "\n",
       "    .dataframe tbody tr th {\n",
       "        vertical-align: top;\n",
       "    }\n",
       "\n",
       "    .dataframe thead th {\n",
       "        text-align: right;\n",
       "    }\n",
       "</style>\n",
       "<table border=\"1\" class=\"dataframe\">\n",
       "  <thead>\n",
       "    <tr style=\"text-align: right;\">\n",
       "      <th></th>\n",
       "      <th>Link</th>\n",
       "      <th>Title</th>\n",
       "      <th>Source</th>\n",
       "      <th>Date</th>\n",
       "      <th>Text</th>\n",
       "    </tr>\n",
       "  </thead>\n",
       "  <tbody>\n",
       "    <tr>\n",
       "      <th>0</th>\n",
       "      <td>https://global-factiva-com.ezproxy.cul.columbi...</td>\n",
       "      <td>A racial 'Rorschach test'</td>\n",
       "      <td>WP</td>\n",
       "      <td>2015-11-05</td>\n",
       "      <td>university of north texas professor dorothy bl...</td>\n",
       "    </tr>\n",
       "    <tr>\n",
       "      <th>1</th>\n",
       "      <td>https://global-factiva-com.ezproxy.cul.columbi...</td>\n",
       "      <td>School is the surest path to achieving King's ...</td>\n",
       "      <td>USA</td>\n",
       "      <td>2008-04-08</td>\n",
       "      <td>two things got my attention last week  one was...</td>\n",
       "    </tr>\n",
       "    <tr>\n",
       "      <th>2</th>\n",
       "      <td>https://global-factiva-com.ezproxy.cul.columbi...</td>\n",
       "      <td>Obama puts courage ahead of political expediency</td>\n",
       "      <td>USA</td>\n",
       "      <td>2008-03-25</td>\n",
       "      <td>if there is lesson to learn from the speech on...</td>\n",
       "    </tr>\n",
       "    <tr>\n",
       "      <th>3</th>\n",
       "      <td>https://global-factiva-com.ezproxy.cul.columbi...</td>\n",
       "      <td>Busting the 'code of silence' ; Milwaukee misc...</td>\n",
       "      <td>USA</td>\n",
       "      <td>2007-12-18</td>\n",
       "      <td>the brutal beatings of frank jude and lovell h...</td>\n",
       "    </tr>\n",
       "    <tr>\n",
       "      <th>4</th>\n",
       "      <td>https://global-factiva-com.ezproxy.cul.columbi...</td>\n",
       "      <td>Reservists back in police jobs raise concerns ...</td>\n",
       "      <td>USA</td>\n",
       "      <td>2007-11-16</td>\n",
       "      <td>shortly after wayne williamson returned to tex...</td>\n",
       "    </tr>\n",
       "  </tbody>\n",
       "</table>\n",
       "</div>"
      ],
      "text/plain": [
       "                                                Link  \\\n",
       "0  https://global-factiva-com.ezproxy.cul.columbi...   \n",
       "1  https://global-factiva-com.ezproxy.cul.columbi...   \n",
       "2  https://global-factiva-com.ezproxy.cul.columbi...   \n",
       "3  https://global-factiva-com.ezproxy.cul.columbi...   \n",
       "4  https://global-factiva-com.ezproxy.cul.columbi...   \n",
       "\n",
       "                                               Title Source        Date  \\\n",
       "0                          A racial 'Rorschach test'     WP  2015-11-05   \n",
       "1  School is the surest path to achieving King's ...    USA  2008-04-08   \n",
       "2   Obama puts courage ahead of political expediency    USA  2008-03-25   \n",
       "3  Busting the 'code of silence' ; Milwaukee misc...    USA  2007-12-18   \n",
       "4  Reservists back in police jobs raise concerns ...    USA  2007-11-16   \n",
       "\n",
       "                                                Text  \n",
       "0  university of north texas professor dorothy bl...  \n",
       "1  two things got my attention last week  one was...  \n",
       "2  if there is lesson to learn from the speech on...  \n",
       "3  the brutal beatings of frank jude and lovell h...  \n",
       "4  shortly after wayne williamson returned to tex...  "
      ]
     },
     "execution_count": 109,
     "metadata": {},
     "output_type": "execute_result"
    }
   ],
   "source": [
    "valid_media.head()"
   ]
  },
  {
   "cell_type": "markdown",
   "metadata": {},
   "source": [
    "## Save cleaned media data to csv"
   ]
  },
  {
   "cell_type": "code",
   "execution_count": 111,
   "metadata": {},
   "outputs": [],
   "source": [
    "with open(r\"/Users/luke/Desktop/Google Drive/Fall 2019/Capstone/Media Data Analysis/cleaned_media.csv\", 'a') as f:\n",
    "    valid_media.to_csv(f, header=True)"
   ]
  },
  {
   "cell_type": "markdown",
   "metadata": {},
   "source": [
    "## Check the distribution of articles"
   ]
  },
  {
   "cell_type": "code",
   "execution_count": 84,
   "metadata": {},
   "outputs": [
    {
     "data": {
      "text/plain": [
       "<matplotlib.axes._subplots.AxesSubplot at 0x1a20e24eb8>"
      ]
     },
     "execution_count": 84,
     "metadata": {},
     "output_type": "execute_result"
    },
    {
     "data": {
      "image/png": "[encoded data removed]",
      "text/plain": [
       "<Figure size 432x288 with 1 Axes>"
      ]
     },
     "metadata": {
      "needs_background": "light"
     },
     "output_type": "display_data"
    }
   ],
   "source": [
    "sns.countplot(x = 'Date', data = valid_media)"
   ]
  },
  {
   "cell_type": "code",
   "execution_count": null,
   "metadata": {},
   "outputs": [],
   "source": []
  }
 ],
 "metadata": {
  "kernelspec": {
   "display_name": "py36",
   "language": "python",
   "name": "py36"
  },
  "language_info": {
   "codemirror_mode": {
    "name": "ipython",
    "version": 3
   },
   "file_extension": ".py",
   "mimetype": "text/x-python",
   "name": "python",
   "nbconvert_exporter": "python",
   "pygments_lexer": "ipython3",
   "version": "3.6.9"
  }
 },
 "nbformat": 4,
 "nbformat_minor": 2
}
