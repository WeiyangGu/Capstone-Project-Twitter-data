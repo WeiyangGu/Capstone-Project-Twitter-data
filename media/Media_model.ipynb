{
 "cells": [
  {
   "cell_type": "markdown",
   "metadata": {},
   "source": [
    "## Predict the Label of an Article : 1 if it is related to Police Violence on Black Community otherwise 0"
   ]
  },
  {
   "cell_type": "code",
   "execution_count": 1,
   "metadata": {},
   "outputs": [
    {
     "name": "stdout",
     "output_type": "stream",
     "text": [
      "/Users/luke/Desktop/Google Drive/Fall 2019/Capstone/Media Data Analysis/train\n"
     ]
    }
   ],
   "source": [
    "import os\n",
    "# directory where all files are \n",
    "os.chdir('/Users/luke/Desktop/Google Drive/Fall 2019/Capstone/Media Data Analysis/train')\n",
    "print(os.getcwd())\n"
   ]
  },
  {
   "cell_type": "code",
   "execution_count": 2,
   "metadata": {},
   "outputs": [
    {
     "name": "stderr",
     "output_type": "stream",
     "text": [
      "/anaconda3/envs/py36/lib/python3.6/site-packages/sklearn/externals/joblib/__init__.py:15: DeprecationWarning: sklearn.externals.joblib is deprecated in 0.21 and will be removed in 0.23. Please import this functionality directly from joblib, which can be installed with: pip install joblib. If this warning is raised when loading pickled models, you may need to re-serialize those models with scikit-learn 0.21+.\n",
      "  warnings.warn(msg, category=DeprecationWarning)\n"
     ]
    }
   ],
   "source": [
    "import pandas as pd \n",
    "from sklearn.feature_extraction.text import CountVectorizer, TfidfVectorizer\n",
    "from sklearn.model_selection import train_test_split\n",
    "import pandas\n",
    "import numpy as np\n",
    "import pandas as pd\n",
    "from sklearn.svm import SVC\n",
    "from sklearn.ensemble import RandomForestClassifier\n",
    "from sklearn.metrics import roc_auc_score\n",
    "from datetime import date\n",
    "import re\n",
    "from xgboost import XGBClassifier\n",
    "from sklearn import svm\n",
    "from sklearn.model_selection import GridSearchCV\n",
    "from sklearn.metrics import accuracy_score\n",
    "from sklearn.model_selection import cross_val_score\n",
    "from sklearn.utils import resample\n",
    "from sklearn.externals import joblib"
   ]
  },
  {
   "cell_type": "markdown",
   "metadata": {},
   "source": [
    "### Prepare Text Data"
   ]
  },
  {
   "cell_type": "code",
   "execution_count": 3,
   "metadata": {},
   "outputs": [
    {
     "data": {
      "text/plain": [
       "(600, 6)"
      ]
     },
     "execution_count": 3,
     "metadata": {},
     "output_type": "execute_result"
    }
   ],
   "source": [
    "# to edit the files encoded differently : \n",
    "cols = [\"id\",\"Date\",\"Link\",\"Source\", \"Text\",\"Title\"]\n",
    "dtypes={'speed':int, \"Text\":str}\n",
    "df_2 = pd.read_csv(\"/Users/luke/Desktop/Google Drive/Fall 2019/Capstone/Media Data Analysis/n_train/WP1.csv\", usecols=cols, dtype= dtypes)#, dtype = {‘c1’: str, ‘c2’: int, …})#, index_col=[0])\n",
    "df_1 = pd.read_csv(\"/Users/luke/Desktop/Google Drive/Fall 2019/Capstone/Media Data Analysis/n_train/USA1.csv\",encoding = 'unicode_escape',usecols=cols,  dtype= dtypes)#, index_col=[0])\n",
    "df_3 = pd.read_excel(\"/Users/luke/Desktop/Google Drive/Fall 2019/Capstone/Media Data Analysis/n_train/ABC4.xlsx\", usecols=cols, dtype= dtypes)#, index_col=0)\n",
    "df_4 = pd.read_csv(\"/Users/luke/Desktop/Google Drive/Fall 2019/Capstone/Media Data Analysis/n_train/Newyork8.csv\", usecols=cols, dtype= dtypes)#, index_col=[0])\n",
    "df_4.shape"
   ]
  },
  {
   "cell_type": "code",
   "execution_count": 4,
   "metadata": {},
   "outputs": [
    {
     "name": "stdout",
     "output_type": "stream",
     "text": [
      "ABC1.csv\n",
      "WSJ1-3.csv\n",
      "CNN1.xlsx\n",
      "CNN2.xlsx\n",
      "ABC2_Nina_1.23.19_150.csv\n",
      "CNN3.xlsx\n",
      "FOXNEWS3.csv\n",
      "FOXNEWS2.csv\n",
      "FOXNEWS1.csv\n",
      "NY2.csv\n",
      "CNN4.csv\n",
      "result1.csv\n",
      "CNN5.csv\n"
     ]
    },
    {
     "data": {
      "text/html": [
       "<div>\n",
       "<style scoped>\n",
       "    .dataframe tbody tr th:only-of-type {\n",
       "        vertical-align: middle;\n",
       "    }\n",
       "\n",
       "    .dataframe tbody tr th {\n",
       "        vertical-align: top;\n",
       "    }\n",
       "\n",
       "    .dataframe thead th {\n",
       "        text-align: right;\n",
       "    }\n",
       "</style>\n",
       "<table border=\"1\" class=\"dataframe\">\n",
       "  <thead>\n",
       "    <tr style=\"text-align: right;\">\n",
       "      <th></th>\n",
       "      <th>id</th>\n",
       "      <th>Link</th>\n",
       "      <th>Title</th>\n",
       "      <th>Source</th>\n",
       "      <th>Date</th>\n",
       "      <th>Text</th>\n",
       "    </tr>\n",
       "  </thead>\n",
       "  <tbody>\n",
       "    <tr>\n",
       "      <th>0</th>\n",
       "      <td>0.0</td>\n",
       "      <td>http://abcnews.go.com/Politics/mistletoe-mortg...</td>\n",
       "      <td>Mistletoe or mortgage payments? Gas or gifts? ...</td>\n",
       "      <td>ABCNEWS</td>\n",
       "      <td>12/22/18 16:48</td>\n",
       "      <td>They are janitors scrubbing toilets and mainte...</td>\n",
       "    </tr>\n",
       "    <tr>\n",
       "      <th>1</th>\n",
       "      <td>0.0</td>\n",
       "      <td>http://abcnews.go.com/US/miami-police-searchin...</td>\n",
       "      <td>Miami police searching for brazen armed robber...</td>\n",
       "      <td>ABCNEWS</td>\n",
       "      <td>12/22/18 15:00</td>\n",
       "      <td>Police officers in Miami are searching for bra...</td>\n",
       "    </tr>\n",
       "    <tr>\n",
       "      <th>2</th>\n",
       "      <td>0.0</td>\n",
       "      <td>http://abcnews.go.com/International/wireStory/...</td>\n",
       "      <td>Sudan protests resume for 4th day over prices,...</td>\n",
       "      <td>ABCNEWS</td>\n",
       "      <td>12/22/18 12:10</td>\n",
       "      <td>Protests over worsening economic conditions re...</td>\n",
       "    </tr>\n",
       "    <tr>\n",
       "      <th>3</th>\n",
       "      <td>0.0</td>\n",
       "      <td>http://abcnews.go.com/International/wireStory/...</td>\n",
       "      <td>Guyana government falls in no-confidence vote</td>\n",
       "      <td>ABCNEWS</td>\n",
       "      <td>12/22/18 11:29</td>\n",
       "      <td>A lawmaker from the ruling coalition in Guyana...</td>\n",
       "    </tr>\n",
       "    <tr>\n",
       "      <th>4</th>\n",
       "      <td>0.0</td>\n",
       "      <td>http://abcnews.go.com/International/wireStory/...</td>\n",
       "      <td>Respite in Paris as yellow vest movement abates</td>\n",
       "      <td>ABCNEWS</td>\n",
       "      <td>12/22/18 9:24</td>\n",
       "      <td>The yellow vest protests, which have brought p...</td>\n",
       "    </tr>\n",
       "  </tbody>\n",
       "</table>\n",
       "</div>"
      ],
      "text/plain": [
       "    id                                               Link  \\\n",
       "0  0.0  http://abcnews.go.com/Politics/mistletoe-mortg...   \n",
       "1  0.0  http://abcnews.go.com/US/miami-police-searchin...   \n",
       "2  0.0  http://abcnews.go.com/International/wireStory/...   \n",
       "3  0.0  http://abcnews.go.com/International/wireStory/...   \n",
       "4  0.0  http://abcnews.go.com/International/wireStory/...   \n",
       "\n",
       "                                               Title   Source            Date  \\\n",
       "0  Mistletoe or mortgage payments? Gas or gifts? ...  ABCNEWS  12/22/18 16:48   \n",
       "1  Miami police searching for brazen armed robber...  ABCNEWS  12/22/18 15:00   \n",
       "2  Sudan protests resume for 4th day over prices,...  ABCNEWS  12/22/18 12:10   \n",
       "3      Guyana government falls in no-confidence vote  ABCNEWS  12/22/18 11:29   \n",
       "4    Respite in Paris as yellow vest movement abates  ABCNEWS   12/22/18 9:24   \n",
       "\n",
       "                                                Text  \n",
       "0  They are janitors scrubbing toilets and mainte...  \n",
       "1  Police officers in Miami are searching for bra...  \n",
       "2  Protests over worsening economic conditions re...  \n",
       "3  A lawmaker from the ruling coalition in Guyana...  \n",
       "4  The yellow vest protests, which have brought p...  "
      ]
     },
     "execution_count": 4,
     "metadata": {},
     "output_type": "execute_result"
    }
   ],
   "source": [
    "#Refer Analysis for variations\n",
    "# Reading all the files containing all sources articles\n",
    "k=1\n",
    "cols = [\"id\",\"Date\",\"Link\",\"Source\", \"Text\",\"Title\"]\n",
    "for filename in os.listdir('.'):\n",
    "    # reading xlsx file \n",
    "    if filename.endswith('.xlsx'):\n",
    "        print(filename)\n",
    "        if (k==1):\n",
    "            \n",
    "            d = pd.read_excel(filename, sheet_name=0, usecols=cols, dtype= dtypes)#, index=False)\n",
    "            #print(d.head())\n",
    "            k=k+1\n",
    "        else:\n",
    "            df = pd.read_excel(filename, sheet_name=0, usecols=cols, dtype= dtypes)#, index=False)\n",
    "            d = pd.concat([d,df])\n",
    "    # reading CSV file\n",
    "    elif filename.endswith('.csv'):\n",
    "        print(filename)\n",
    "        if (k==1):\n",
    "            d = pd.read_csv(filename,usecols=cols, dtype= dtypes)#,index=False )\n",
    "            k=k+1\n",
    "        else:\n",
    "            df = pd.read_csv(filename,usecols=cols, dtype= dtypes)#, index=False)\n",
    "            #print(df.head())\n",
    "            d = pd.concat([d,df])\n",
    "       \n",
    "    \n",
    "# combining the data of the previous cell with the data of the current cell            \n",
    "d = pd.concat([d,df_1])   \n",
    "d = pd.concat([d,df_2])\n",
    "d = pd.concat([d,df_3])\n",
    "d = pd.concat([d,df_4])\n",
    "d.index = range(len(d))\n",
    "d.head()"
   ]
  },
  {
   "cell_type": "markdown",
   "metadata": {},
   "source": [
    "### Preprocess Data    "
   ]
  },
  {
   "cell_type": "code",
   "execution_count": 6,
   "metadata": {
    "scrolled": false
   },
   "outputs": [
    {
     "data": {
      "text/plain": [
       "(1854, 6)"
      ]
     },
     "execution_count": 6,
     "metadata": {},
     "output_type": "execute_result"
    }
   ],
   "source": [
    "for index in d.index:\n",
    "    text = d.loc[index,\"Text\"]\n",
    "    try:\n",
    "        tmp = re.sub(r'\\W', ' ', text)\n",
    "    except:\n",
    "        d.drop(index, inplace = True)\n",
    "        continue\n",
    "    text = re.sub(r'\\s+[a-zA-Z]\\s+', ' ', text)\n",
    "    text = re.sub(r'\\^[a-zA-Z]\\s+', ' ', text)\n",
    "    text= text.lower()\n",
    "    text = re.sub(r'\\\\n', ' ', text, flags=re.I)\n",
    "    text = re.sub(r'\\\\', '', text, flags=re.I)\n",
    "    text = re.sub(r'\\s+', ' ', text, flags=re.I)\n",
    "    try:\n",
    "        text= re.sub(r'\\W', ' ', text)\n",
    "    except:\n",
    "        d.drop(index, inplace = True)\n",
    "        continue\n",
    "    d.loc[index,\"Text\"] =  text\n",
    "d.shape"
   ]
  },
  {
   "cell_type": "code",
   "execution_count": 7,
   "metadata": {},
   "outputs": [
    {
     "name": "stdout",
     "output_type": "stream",
     "text": [
      "(1825, 6)\n"
     ]
    }
   ],
   "source": [
    "# drop duplicate rows of the input data\n",
    "d.drop_duplicates(inplace = True, keep = \"first\")\n",
    "print(d.shape)"
   ]
  },
  {
   "cell_type": "code",
   "execution_count": 8,
   "metadata": {},
   "outputs": [
    {
     "data": {
      "text/plain": [
       "0.0    1423\n",
       "1.0     402\n",
       "Name: id, dtype: int64"
      ]
     },
     "execution_count": 8,
     "metadata": {},
     "output_type": "execute_result"
    }
   ],
   "source": [
    "# check how imbalamce the data is \n",
    "d['id'].value_counts()"
   ]
  },
  {
   "cell_type": "code",
   "execution_count": 9,
   "metadata": {},
   "outputs": [],
   "source": [
    "# changing id column (output variable) to integer\n",
    "d[\"id\"] = d.astype({\"id\": int})"
   ]
  },
  {
   "cell_type": "markdown",
   "metadata": {},
   "source": [
    "### Upsampling "
   ]
  },
  {
   "cell_type": "code",
   "execution_count": 10,
   "metadata": {},
   "outputs": [
    {
     "name": "stdout",
     "output_type": "stream",
     "text": [
      "[1070  298]\n"
     ]
    },
    {
     "data": {
      "text/plain": [
       "array([353, 104])"
      ]
     },
     "execution_count": 10,
     "metadata": {},
     "output_type": "execute_result"
    }
   ],
   "source": [
    "#upsample (not required to run beacuse it does not give better result )\n",
    "train_k = 300\n",
    "train_x, X_test, train_y, y_test = train_test_split(  list(d[\"Text\"].values), list(d[\"id\"].values), random_state=20)\n",
    "len(train_x)\n",
    "l = np.bincount(np.array(train_y))\n",
    "print(l)\n",
    "np.bincount(np.array(y_test))\n"
   ]
  },
  {
   "cell_type": "code",
   "execution_count": 11,
   "metadata": {},
   "outputs": [],
   "source": [
    "# upsample(dont run)\n",
    "train_d = pd.DataFrame({\"Text\": train_x, \"id\": train_y})"
   ]
  },
  {
   "cell_type": "code",
   "execution_count": 12,
   "metadata": {},
   "outputs": [
    {
     "data": {
      "text/plain": [
       "0    1070\n",
       "1     957\n",
       "Name: id, dtype: int64"
      ]
     },
     "execution_count": 12,
     "metadata": {},
     "output_type": "execute_result"
    }
   ],
   "source": [
    "#up sample(don't run)\n",
    "# Separate majority and minority classes\n",
    "df_majority = train_d[train_d.id==0]\n",
    "df_minority = train_d[train_d.id==1]\n",
    " \n",
    "# Upsample minority class\n",
    "df_minority_upsampled = resample(df_minority, \n",
    "                                 replace=True,     # sample with replacement\n",
    "                                 n_samples=957,    # to match majority class\n",
    "                                 random_state=30) # reproducible results\n",
    " \n",
    "# Combine majority class with upsampled minority class\n",
    "\n",
    "df_upsampled = pd.concat([df_majority, df_minority_upsampled])\n",
    " \n",
    "# Display new class counts\n",
    "df_upsampled.id.value_counts()"
   ]
  },
  {
   "cell_type": "code",
   "execution_count": 13,
   "metadata": {},
   "outputs": [
    {
     "name": "stdout",
     "output_type": "stream",
     "text": [
      "[1070  957]\n"
     ]
    }
   ],
   "source": [
    "#upsample (don't run)\n",
    "X_train = df_upsampled.Text\n",
    "#X_train = train_d.Text\n",
    "y_train = df_upsampled.id\n",
    "print(np.bincount(np.array(y_train)))"
   ]
  },
  {
   "cell_type": "markdown",
   "metadata": {},
   "source": [
    "### Transform Data and Modeling : Support Vector Machine"
   ]
  },
  {
   "cell_type": "code",
   "execution_count": 14,
   "metadata": {},
   "outputs": [
    {
     "name": "stdout",
     "output_type": "stream",
     "text": [
      "[1070  298]\n",
      "----\n",
      "[367  90]\n",
      "==========\n",
      "ROC-AUC0.8331063412508172\n",
      "==================\n"
     ]
    }
   ],
   "source": [
    "           \n",
    "#train and test split of the input data (which is labelled 1 or 0)\n",
    "# train_k = 300\n",
    "X_train, X_test, y_train, y_test = train_test_split(  list(d[\"Text\"].values), list(d[\"id\"].values), random_state=20)\n",
    "\n",
    "#tf-idfe_extraction(Tfid)\n",
    "feature_extraction = TfidfVectorizer()\n",
    "features = feature_extraction.fit_transform(X_train)\n",
    "\n",
    "# train classifier SVM\n",
    "clf = SVC(probability=True,C = 10, gamma = 0.1 )\n",
    "#clf = RandomForestClassifier(criterion = 'gini', n_estimators=200, random_state=42) # random forest\n",
    "print(np.bincount(np.array(y_train)))\n",
    "print(\"----\")\n",
    "clf.fit(features, y_train)\n",
    "# tf-idf for the test data\n",
    "features_t = feature_extraction.transform(X_test)\n",
    "# predict probabilities after converting data into numerical format using tfidf\n",
    "predictions = clf.predict_proba(features_t)\n",
    "print(np.bincount(predictions[:,1]>0.55))\n",
    "# checking performance of the model\n",
    "print(\"==========\")\n",
    "print(\"ROC-AUC\" + str(roc_auc_score(y_test, predictions[:,1]>0.55)))\n",
    "print(\"==================\")\n"
   ]
  },
  {
   "cell_type": "markdown",
   "metadata": {},
   "source": [
    "#### Other Algorithms"
   ]
  },
  {
   "cell_type": "code",
   "execution_count": 14,
   "metadata": {},
   "outputs": [
    {
     "name": "stdout",
     "output_type": "stream",
     "text": [
      "GaussianNB(priors=None, var_smoothing=1e-09)\n",
      "              precision    recall  f1-score   support\n",
      "\n",
      "           0       0.83      0.98      0.89       353\n",
      "           1       0.79      0.30      0.43       104\n",
      "\n",
      "    accuracy                           0.82       457\n",
      "   macro avg       0.81      0.64      0.66       457\n",
      "weighted avg       0.82      0.82      0.79       457\n",
      "\n",
      "[[345   8]\n",
      " [ 73  31]]\n",
      "0.6377070167792548\n"
     ]
    }
   ],
   "source": [
    "# implementing naive bayes\n",
    "from sklearn import metrics\n",
    "from sklearn.naive_bayes import GaussianNB\n",
    "\n",
    "model = GaussianNB()\n",
    "k = features.todense()\n",
    "model.fit(k, y_train)\n",
    "print(model)\n",
    "# make predictions\n",
    "#expected = dataset.target\n",
    "k_t = features_t.todense()\n",
    "predicted = model.predict(k_t)\n",
    "# summarize the fit of the model\n",
    "print(metrics.classification_report(y_test, predicted))\n",
    "print(metrics.confusion_matrix(y_test, predicted))\n",
    "print(roc_auc_score(y_test, predicted))\n"
   ]
  },
  {
   "cell_type": "code",
   "execution_count": 15,
   "metadata": {},
   "outputs": [
    {
     "name": "stdout",
     "output_type": "stream",
     "text": [
      "ROC-AUC----0.8104843103072564\n"
     ]
    },
    {
     "data": {
      "text/plain": [
       "0.8927789934354485"
      ]
     },
     "execution_count": 15,
     "metadata": {},
     "output_type": "execute_result"
    }
   ],
   "source": [
    "# gradient boosting (either svm or this algorithm)\n",
    "\n",
    "xgb = XGBClassifier(max_depth=3, n_estimators=300, learning_rate=0.1)\n",
    "#score1 = cross_val_score(xgb,features, y_train, cv =10)\n",
    "xgb.fit(features, y_train)\n",
    "predictions = xgb.predict_proba(features_t)\n",
    "print(\"ROC-AUC----\" + str(roc_auc_score(y_test, predictions[:,1]>0.55)))\n",
    "#print(score1.mean())\n",
    "\n",
    "xgb.fit(features, y_train)\n",
    "xgb.score(features_t, y_test)"
   ]
  },
  {
   "cell_type": "markdown",
   "metadata": {},
   "source": [
    "### Parameter tuning"
   ]
  },
  {
   "cell_type": "code",
   "execution_count": null,
   "metadata": {},
   "outputs": [],
   "source": [
    "# parameter tuning of SVM (don't run)\n",
    "\n",
    "def svc_param_selection(X, y, nfolds):\n",
    "    Cs = [0.001, 0.01, 0.1, 1, 10]\n",
    "    gammas = [0.001, 0.01, 0.1, 1]\n",
    "    param_grid = {'C': Cs, 'gamma' : gammas}\n",
    "    grid_search = GridSearchCV(svm.SVC(kernel='rbf'), param_grid, cv=nfolds)\n",
    "    grid_search.fit(X, y)\n",
    "    grid_search.best_params_\n",
    "    return grid_search.best_params_\n",
    "k = svc_param_selection(features, y_train, 5)\n",
    "print(k)"
   ]
  },
  {
   "cell_type": "code",
   "execution_count": 59,
   "metadata": {},
   "outputs": [
    {
     "data": {
      "text/plain": [
       "{'learning_rate': 0.1,\n",
       " 'max_depth': 3,\n",
       " 'n_estimators': 200,\n",
       " 'scale_pos_weight': 1}"
      ]
     },
     "execution_count": 59,
     "metadata": {},
     "output_type": "execute_result"
    }
   ],
   "source": [
    "# parameter tuning of boosting (don't run)\n",
    "\n",
    "param_grid = { \n",
    "    'n_estimators': [200,300,500],\n",
    "    'max_depth' : [3,5,6,7],\n",
    "    'learning_rate' :[ 0.1, 0.15,0.01],\n",
    "    'scale_pos_weight' :[0,1,2]\n",
    "    \n",
    "}\n",
    "rfc = XGBClassifier(random_state=42)\n",
    "grid_search = GridSearchCV(estimator=rfc, param_grid=param_grid, cv=5)\n",
    "grid_search.fit(features, y_train)\n",
    "grid_search.best_params_\n"
   ]
  },
  {
   "cell_type": "code",
   "execution_count": null,
   "metadata": {},
   "outputs": [],
   "source": [
    "# parameter tuning of random forest (don't run)\n",
    "\n",
    "param_grid = { \n",
    "    'n_estimators': [200, 500],\n",
    "    'max_features': ['auto', 'sqrt', 'log2'],\n",
    "    'max_depth' : [4,5,6,7,8,10],\n",
    "    'criterion' :['gini', 'entropy']\n",
    "}\n",
    "rfc=RandomForestClassifier(random_state=42)\n",
    "grid_search = GridSearchCV(estimator=rfc, param_grid=param_grid, cv=5)\n",
    "grid_search.fit(features, y_train)\n",
    "grid_search.best_params_"
   ]
  },
  {
   "cell_type": "code",
   "execution_count": 23,
   "metadata": {},
   "outputs": [
    {
     "data": {
      "image/png": "[encoded data removed]",
      "text/plain": [
       "<Figure size 432x288 with 1 Axes>"
      ]
     },
     "metadata": {
      "needs_background": "light"
     },
     "output_type": "display_data"
    },
    {
     "name": "stdout",
     "output_type": "stream",
     "text": [
      "AUC: 0.921\n"
     ]
    }
   ],
   "source": [
    "# metrics for accuracy\n",
    "from sklearn.metrics import roc_curve\n",
    "import matplotlib.pyplot as pyplot\n",
    "fpr, tpr, thresholds = roc_curve(y_test, predictions[:,1])\n",
    "pyplot.plot([0, 1], [0, 1], linestyle='--')\n",
    "pyplot.plot(fpr, tpr, marker='.')\n",
    "pyplot.show()\n",
    "auc_score = roc_auc_score(y_test, predictions[:,1])\n",
    "print('AUC: %.3f' % auc_score)"
   ]
  },
  {
   "cell_type": "code",
   "execution_count": 24,
   "metadata": {},
   "outputs": [
    {
     "data": {
      "image/png": "[encoded data removed]",
      "text/plain": [
       "<Figure size 432x288 with 1 Axes>"
      ]
     },
     "metadata": {
      "needs_background": "light"
     },
     "output_type": "display_data"
    },
    {
     "name": "stdout",
     "output_type": "stream",
     "text": [
      "AUC: 0.791\n"
     ]
    }
   ],
   "source": [
    "# precision recall\n",
    "from sklearn.metrics import precision_recall_curve\n",
    "from sklearn.metrics import auc\n",
    "precision, recall, thresholds = precision_recall_curve(y_test, predictions[:,1])\n",
    "auc_score = auc(recall, precision)\n",
    "pyplot.plot([0, 1], [0.5, 0.5], linestyle='--')\n",
    "pyplot.plot(recall, precision, marker='.')\n",
    "pyplot.show()\n",
    "print('AUC: %.3f' % auc_score)"
   ]
  },
  {
   "cell_type": "code",
   "execution_count": 15,
   "metadata": {},
   "outputs": [
    {
     "data": {
      "text/plain": [
       "['model.pkl']"
      ]
     },
     "execution_count": 15,
     "metadata": {},
     "output_type": "execute_result"
    }
   ],
   "source": [
    "joblib.dump(clf, \"model.pkl\")"
   ]
  },
  {
   "cell_type": "code",
   "execution_count": 16,
   "metadata": {},
   "outputs": [
    {
     "name": "stdout",
     "output_type": "stream",
     "text": [
      "/Users/luke/Desktop/Google Drive/Fall 2019/Capstone/Media Data Analysis/predict\n"
     ]
    }
   ],
   "source": [
    "# directory for unlabeled data\n",
    "os.chdir('/Users/luke/Desktop/Google Drive/Fall 2019/Capstone/Media Data Analysis/predict')\n",
    "print(os.getcwd())"
   ]
  },
  {
   "cell_type": "code",
   "execution_count": 17,
   "metadata": {},
   "outputs": [],
   "source": [
    "clf = joblib.load('../model.pkl')"
   ]
  },
  {
   "cell_type": "code",
   "execution_count": 18,
   "metadata": {},
   "outputs": [
    {
     "name": "stdout",
     "output_type": "stream",
     "text": [
      "WP15.csv\n",
      "USA5.csv\n",
      "NYj5.csv\n",
      "NY15.csv\n",
      "NY29.csv\n",
      "NY14.csv\n",
      "USA4.csv\n",
      "WP28.csv\n",
      "WP14.csv\n",
      "WP16.csv\n",
      "NY16.csv\n",
      "NY17.csv\n",
      "WP17.csv\n",
      "WP13.csv\n",
      "USA3.csv\n",
      ".DS_Store\n",
      "NYj3.csv\n",
      "NY13.csv\n",
      "NY12.csv\n",
      "NYj2.csv\n",
      "USA2.csv\n",
      "WP12.csv\n",
      "NY9.csv\n",
      "WP10.csv\n",
      "NY11.csv\n",
      "NYj1.csv\n",
      "USA1.csv\n",
      "NY8.csv\n",
      "WP11.csv\n",
      "WP2.csv\n",
      "Newyork2.csv\n",
      "wsj4.csv\n",
      "wsj5.csv\n",
      "Newyork3.csv\n",
      "WP3.csv\n",
      "WP1.csv\n",
      "Newyork1.csv\n",
      "wsj7.csv\n",
      "wsj6.csv\n",
      "WP4.csv\n",
      "Newyork4.csv\n",
      "wsj2.csv\n",
      "wsj3.csv\n",
      "Newyork5.csv\n",
      "WP5.csv\n",
      "WP7.csv\n",
      "Newyork7.csv\n",
      "wsj1.csv\n",
      "Newyork6.csv\n",
      "predict1.csv\n",
      "WP6.csv\n",
      "WP8.csv\n",
      "Newyork8.csv\n",
      "WP9.csv\n",
      "WP20.csv\n",
      "NY5.csv\n",
      "NY20.csv\n",
      "NY21.csv\n",
      "NY4.csv\n",
      "WP21.csv\n",
      "WP23.csv\n",
      "NY6.csv\n",
      "NY23.csv\n",
      "NY22.csv\n",
      "NY7.csv\n",
      "WP22.csv\n",
      "NY3.csv\n",
      "WP26.csv\n",
      "NY26.csv\n",
      "NY32.csv\n",
      "NY27.csv\n",
      "WP27.csv\n",
      "NY2.csv\n",
      "WP19.csv\n",
      "WP25.csv\n",
      "NY19.csv\n",
      "NY31.csv\n",
      "NY25.csv\n",
      "NY24.csv\n",
      "NY30.csv\n",
      "NY18.csv\n",
      "WP24.csv\n",
      "WP18.csv\n",
      "NY1.csv\n"
     ]
    }
   ],
   "source": [
    "# predicting the values for unlabeled data\n",
    "i = 0\n",
    "k=0\n",
    "mp = 0\n",
    "headers = ['id', 'link', 'header','source', 'date','text']\n",
    "# writing the new rows after predicting the label in predict1.csv\n",
    "with open(r\"/Users/luke/Desktop/Google Drive/Fall 2019/Capstone/Media Data Analysis/predict/predict1.csv\", 'a') as f:\n",
    "    for filename in os.listdir('.'):\n",
    "        print(filename)\n",
    "        # unrelevant extension\n",
    "        if(filename== \".DS_Store\"):\n",
    "            continue\n",
    "        if(filename== \"predict1.csv\"):\n",
    "            continue\n",
    "        i=0\n",
    "        if filename.endswith('.xlsx'):\n",
    "            if (k==1):\n",
    "                d = pd.read_excel(filename, sheetname=0)\n",
    "                k=k+1\n",
    "            else:\n",
    "                d = pd.read_excel(filename, sheetname=0)\n",
    "                #d = pd.concat([d,df])\n",
    "        elif filename.endswith('.csv'):\n",
    "            d = pd.read_csv(filename, encoding = \"ISO-8859-1\")\n",
    "        else:\n",
    "            pass\n",
    "\n",
    "        for index in d.index:\n",
    "    \n",
    "            text = d.loc[index,\"Text\"]\n",
    "            try:\n",
    "                tmp = re.sub(r'\\W', ' ', text)\n",
    "            except:\n",
    "                d.drop(index, inplace = True)\n",
    "                continue\n",
    "            text = re.sub(r'\\s+[a-zA-Z]\\s+', ' ', text)\n",
    "            text = re.sub(r'\\^[a-zA-Z]\\s+', ' ', text)\n",
    "            text= text.lower()\n",
    "            text = re.sub(r'\\\\n', ' ', text, flags=re.I)\n",
    "            text = re.sub(r'\\\\', '', text, flags=re.I)\n",
    "            text = re.sub(r'\\s+', ' ', text, flags=re.I)\n",
    "            try:\n",
    "                text= re.sub(r'\\W', ' ', text)\n",
    "            except:\n",
    "                d.drop(index, inplace = True)\n",
    "                continue            \n",
    "            d.loc[index,\"Text\"] =  text\n",
    "            \n",
    "        X_predict = list(d[\"Text\"].values)\n",
    "        # tf -idf \n",
    "        features_predict = feature_extraction.transform(X_predict)\n",
    "        # predict using SVM trained model\n",
    "        y_predict = clf.predict_proba(features_predict)\n",
    "        \n",
    "        y= y_predict[:,1].tolist()\n",
    "       \n",
    "        for index, row in d.iterrows():\n",
    "            if y[i] >0.55:\n",
    "                d.loc[index,\"id\"] =1\n",
    "            else: \n",
    "                d.loc[index,\"id\"] = 0 \n",
    "            i = i+1\n",
    "        if mp== 0:\n",
    "            d.to_csv(f, header=True)\n",
    "            mp = 1\n",
    "        else:\n",
    "            d.to_csv(f,header=False )"
   ]
  },
  {
   "cell_type": "code",
   "execution_count": null,
   "metadata": {},
   "outputs": [],
   "source": []
  }
 ],
 "metadata": {
  "kernelspec": {
   "display_name": "py36",
   "language": "python",
   "name": "py36"
  },
  "language_info": {
   "codemirror_mode": {
    "name": "ipython",
    "version": 3
   },
   "file_extension": ".py",
   "mimetype": "text/x-python",
   "name": "python",
   "nbconvert_exporter": "python",
   "pygments_lexer": "ipython3",
   "version": "3.6.9"
  }
 },
 "nbformat": 4,
 "nbformat_minor": 2
}
